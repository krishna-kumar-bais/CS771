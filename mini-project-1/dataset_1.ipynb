{
 "cells": [
  {
   "cell_type": "markdown",
   "metadata": {},
   "source": [
    "# Emoticon Dataset"
   ]
  },
  {
   "cell_type": "markdown",
   "metadata": {},
   "source": [
    "## Importing Emoticon Dataset"
   ]
  },
  {
   "cell_type": "code",
   "execution_count": 88,
   "metadata": {},
   "outputs": [],
   "source": [
    "import numpy as np\n",
    "import pandas as pd\n",
    "\n",
    "from tensorflow.keras.models import Model\n",
    "from tensorflow.keras.layers import Embedding, LSTM, Dense, Dropout, Flatten, Input\n",
    "from tensorflow.keras.preprocessing.sequence import pad_sequences\n",
    "\n",
    "from sklearn.preprocessing import StandardScaler\n",
    "\n",
    "from sklearn.svm import SVC\n",
    "import matplotlib.pyplot as plt\n",
    "\n",
    "from sklearn.metrics import (accuracy_score,confusion_matrix,ConfusionMatrixDisplay)\n",
    "from sklearn.model_selection import train_test_split\n",
    "import matplotlib.pyplot as plt"
   ]
  },
  {
   "cell_type": "code",
   "execution_count": 89,
   "metadata": {},
   "outputs": [],
   "source": [
    "train_emoticon_df = pd.read_csv(\"datasets/train/train_emoticon.csv\")\n",
    "train_emoticon_X = train_emoticon_df['input_emoticon']\n",
    "train_emoticon_Y = train_emoticon_df['label'].to_numpy()\n",
    "\n",
    "valid_emoticon_df=pd.read_csv(\"datasets/valid/valid_emoticon.csv\")\n",
    "valid_emoticon_X = valid_emoticon_df['input_emoticon']\n",
    "valid_emoticon_Y = valid_emoticon_df['label'].to_numpy()"
   ]
  },
  {
   "cell_type": "markdown",
   "metadata": {},
   "source": [
    "## Taking % of training data set"
   ]
  },
  {
   "cell_type": "code",
   "execution_count": 90,
   "metadata": {},
   "outputs": [],
   "source": [
    "train_emoticon_X_100 = train_emoticon_X\n",
    "train_emoticon_Y_100 = train_emoticon_Y\n",
    "train_emoticon_X_80, train_emoticon_X_20, train_emoticon_Y_80, train_emoticon_Y_20 = train_test_split(train_emoticon_X, train_emoticon_Y, test_size=0.2, stratify=train_emoticon_Y, random_state=42)\n",
    "train_emoticon_X_60, train_emoticon_X_40, train_emoticon_Y_60, train_emoticon_Y_40 = train_test_split(train_emoticon_X, train_emoticon_Y, test_size=0.4, stratify=train_emoticon_Y, random_state=42)"
   ]
  },
  {
   "cell_type": "markdown",
   "metadata": {},
   "source": [
    "## For 100% Training Data"
   ]
  },
  {
   "cell_type": "markdown",
   "metadata": {},
   "source": [
    "### Feature Transformation and encoding"
   ]
  },
  {
   "cell_type": "markdown",
   "metadata": {},
   "source": [
    "#### Transformation"
   ]
  },
  {
   "cell_type": "code",
   "execution_count": 91,
   "metadata": {},
   "outputs": [],
   "source": [
    "train_emoticon_X_data_100 = [list(input_str) for input_str in train_emoticon_X_100]\n",
    "train_emoticon_X_data_100 = pd.DataFrame(train_emoticon_X_data_100)\n",
    "train_emoticon_X_data_100 = train_emoticon_X_data_100.map(ord)\n",
    "train_emoticon_X_data_100 = train_emoticon_X_data_100.astype(str)\n",
    "train_emoticon_X_data_100 = train_emoticon_X_data_100.apply(lambda row: ' '.join(row.values), axis=1)\n",
    "train_emoticon_X_data_100 = pd.DataFrame(train_emoticon_X_data_100, columns=['text'])"
   ]
  },
  {
   "cell_type": "code",
   "execution_count": 92,
   "metadata": {},
   "outputs": [],
   "source": [
    "valid_emoticon_X_data_100 = [list(input_str) for input_str in valid_emoticon_X]\n",
    "valid_emoticon_X_data_100 = pd.DataFrame(valid_emoticon_X_data_100)\n",
    "valid_emoticon_X_data_100 = valid_emoticon_X_data_100.map(ord)\n",
    "valid_emoticon_X_data_100 = valid_emoticon_X_data_100.astype(str)\n",
    "valid_emoticon_X_data_100 = valid_emoticon_X_data_100.apply(lambda row: ' '.join(row.values), axis=1)\n",
    "valid_emoticon_X_data_100 = pd.DataFrame(valid_emoticon_X_data_100, columns=['text'])"
   ]
  },
  {
   "cell_type": "markdown",
   "metadata": {},
   "source": [
    "#### Embedding"
   ]
  },
  {
   "cell_type": "code",
   "execution_count": 93,
   "metadata": {},
   "outputs": [
    {
     "name": "stdout",
     "output_type": "stream",
     "text": [
      "{'128644', '128594', '128545', '128589', '128591', '128556', '128607', '128530', '128735', '128547', '128541', '128622', '128576', '128562', '128521', '128691', '128733', '128669', '128553', '128677', '128558', '128645', '128548', '128631', '128564', '128526', '128643', '128680', '128549', '128651', '128617', '128580', '128673', '128544', '128732', '128536', '128560', '128711', '128725', '128554', '128710', '128602', '128600', '128542', '128515', '128585', '128599', '128664', '128566', '128590', '128573', '128637', '128687', '128537', '128706', '128688', '128615', '128670', '128663', '128720', '128581', '128657', '128681', '128728', '128690', '128595', '128723', '128528', '128626', '128727', '128726', '128724', '128666', '128568', '128518', '128584', '128512', '128543', '128587', '128655', '128616', '128596', '128630', '128579', '128693', '128712', '128647', '128672', '128513', '128642', '128527', '128671', '128715', '128701', '128588', '128614', '128650', '128721', '128653', '128638', '128722', '128668', '128533', '128714', '128603', '128524', '128719', '128592', '128525', '128686', '128649', '128531', '128601', '128539', '128641', '128703', '128683', '128704', '128702', '128625', '128676', '128709', '128660', '128619', '128639', '128652', '128517', '128729', '128514', '128551', '128717', '128593', '128695', '128606', '128667', '128716', '128632', '128538', '128552', '128561', '128613', '128608', '128697', '128570', '128529', '128574', '128516', '128612', '128618', '128623', '128540', '128611', '128705', '128685', '128737', '128646', '128640', '128604', '128698', '128571', '128692', '128662', '128522', '128586', '128627', '128532', '128555', '128682', '128635', '128665', '128583', '128734', '128678', '128523', '128575', '128659', '128700', '128582', '128628', '128713', '128679', '128674', '128656', '128624', '128696', '128557', '128694', '128636', '128620', '128661', '128689', '128519', '128567', '128565', '128675', '128610', '128550', '128546', '128534', '128718', '128708', '128654', '128559', '128535', '128648', '128577', '128572', '128597', '128598', '128658', '128563', '128633', '128731', '128569'}\n",
      "{'128644', '128594', '128545', '128589', '128591', '128556', '128607', '128530', '128735', '128547', '128541', '128622', '128576', '128562', '128521', '128691', '128733', '128669', '128553', '128677', '128558', '128645', '128548', '128631', '128564', '128526', '128643', '128680', '128549', '128651', '128617', '128580', '128673', '128544', '128732', '128536', '128560', '128711', '128725', '128554', '128710', '128602', '128600', '128542', '128515', '128585', '128599', '128664', '128566', '128590', '128573', '128637', '128687', '128537', '128706', '128688', '128615', '128670', '128663', '128720', '128581', '128657', '128681', '128728', '128690', '128595', '128723', '128528', '128626', '128727', '128726', '128724', '128666', '128568', '128518', '128584', '128512', '128543', '128587', '128655', '128616', '128596', '128630', '128579', '128693', '128712', '128647', '128672', '128513', '128642', '128527', '128671', '128715', '128701', '128588', '128614', '128650', '128721', '128653', '128638', '128722', '128668', '128533', '128714', '128603', '128524', '128719', '128592', '128525', '128686', '128649', '128531', '128601', '128539', '128641', '128703', '128683', '128704', '128702', '128625', '128676', '128709', '128660', '128619', '128639', '128652', '128517', '128729', '128514', '128551', '128717', '128593', '128695', '128606', '128667', '128716', '128632', '128538', '128552', '128561', '128613', '128608', '128697', '128570', '128529', '128574', '128516', '128612', '128618', '128623', '128540', '128611', '128705', '128685', '128737', '128646', '128640', '128604', '128698', '128571', '128692', '128662', '128522', '128586', '128627', '128532', '128555', '128682', '128635', '128665', '128583', '128734', '128678', '128523', '128575', '128659', '128700', '128582', '128628', '128713', '128679', '128674', '128656', '128624', '128696', '128557', '128694', '128636', '128620', '128661', '128689', '128519', '128567', '128565', '128675', '128610', '128550', '128546', '128534', '128718', '128708', '128654', '128559', '128535', '128648', '128577', '128572', '128597', '128598', '128658', '128563', '128633', '128731', '128569'}\n"
     ]
    },
    {
     "name": "stderr",
     "output_type": "stream",
     "text": [
      "/home/nishvaan/.local/lib/python3.10/site-packages/keras/src/layers/core/embedding.py:90: UserWarning: Argument `input_length` is deprecated. Just remove it.\n",
      "  warnings.warn(\n"
     ]
    },
    {
     "data": {
      "text/html": [
       "<pre style=\"white-space:pre;overflow-x:auto;line-height:normal;font-family:Menlo,'DejaVu Sans Mono',consolas,'Courier New',monospace\"><span style=\"font-weight: bold\">Model: \"small_text_embedding_model\"</span>\n",
       "</pre>\n"
      ],
      "text/plain": [
       "\u001b[1mModel: \"small_text_embedding_model\"\u001b[0m\n"
      ]
     },
     "metadata": {},
     "output_type": "display_data"
    },
    {
     "data": {
      "text/html": [
       "<pre style=\"white-space:pre;overflow-x:auto;line-height:normal;font-family:Menlo,'DejaVu Sans Mono',consolas,'Courier New',monospace\">┏━━━━━━━━━━━━━━━━━━━━━━━━━━━━━━━━━┳━━━━━━━━━━━━━━━━━━━━━━━━┳━━━━━━━━━━━━━━━┓\n",
       "┃<span style=\"font-weight: bold\"> Layer (type)                    </span>┃<span style=\"font-weight: bold\"> Output Shape           </span>┃<span style=\"font-weight: bold\">       Param # </span>┃\n",
       "┡━━━━━━━━━━━━━━━━━━━━━━━━━━━━━━━━━╇━━━━━━━━━━━━━━━━━━━━━━━━╇━━━━━━━━━━━━━━━┩\n",
       "│ input_layer_10 (<span style=\"color: #0087ff; text-decoration-color: #0087ff\">InputLayer</span>)     │ (<span style=\"color: #00d7ff; text-decoration-color: #00d7ff\">None</span>, <span style=\"color: #00af00; text-decoration-color: #00af00\">13</span>)             │             <span style=\"color: #00af00; text-decoration-color: #00af00\">0</span> │\n",
       "├─────────────────────────────────┼────────────────────────┼───────────────┤\n",
       "│ embedding_layer (<span style=\"color: #0087ff; text-decoration-color: #0087ff\">Embedding</span>)     │ (<span style=\"color: #00d7ff; text-decoration-color: #00d7ff\">None</span>, <span style=\"color: #00af00; text-decoration-color: #00af00\">13</span>, <span style=\"color: #00af00; text-decoration-color: #00af00\">16</span>)         │         <span style=\"color: #00af00; text-decoration-color: #00af00\">3,440</span> │\n",
       "├─────────────────────────────────┼────────────────────────┼───────────────┤\n",
       "│ lstm_10 (<span style=\"color: #0087ff; text-decoration-color: #0087ff\">LSTM</span>)                  │ (<span style=\"color: #00d7ff; text-decoration-color: #00d7ff\">None</span>, <span style=\"color: #00af00; text-decoration-color: #00af00\">13</span>, <span style=\"color: #00af00; text-decoration-color: #00af00\">16</span>)         │         <span style=\"color: #00af00; text-decoration-color: #00af00\">2,112</span> │\n",
       "├─────────────────────────────────┼────────────────────────┼───────────────┤\n",
       "│ dropout_10 (<span style=\"color: #0087ff; text-decoration-color: #0087ff\">Dropout</span>)            │ (<span style=\"color: #00d7ff; text-decoration-color: #00d7ff\">None</span>, <span style=\"color: #00af00; text-decoration-color: #00af00\">13</span>, <span style=\"color: #00af00; text-decoration-color: #00af00\">16</span>)         │             <span style=\"color: #00af00; text-decoration-color: #00af00\">0</span> │\n",
       "├─────────────────────────────────┼────────────────────────┼───────────────┤\n",
       "│ flatten_10 (<span style=\"color: #0087ff; text-decoration-color: #0087ff\">Flatten</span>)            │ (<span style=\"color: #00d7ff; text-decoration-color: #00d7ff\">None</span>, <span style=\"color: #00af00; text-decoration-color: #00af00\">208</span>)            │             <span style=\"color: #00af00; text-decoration-color: #00af00\">0</span> │\n",
       "├─────────────────────────────────┼────────────────────────┼───────────────┤\n",
       "│ dense_20 (<span style=\"color: #0087ff; text-decoration-color: #0087ff\">Dense</span>)                │ (<span style=\"color: #00d7ff; text-decoration-color: #00d7ff\">None</span>, <span style=\"color: #00af00; text-decoration-color: #00af00\">8</span>)              │         <span style=\"color: #00af00; text-decoration-color: #00af00\">1,672</span> │\n",
       "├─────────────────────────────────┼────────────────────────┼───────────────┤\n",
       "│ dense_21 (<span style=\"color: #0087ff; text-decoration-color: #0087ff\">Dense</span>)                │ (<span style=\"color: #00d7ff; text-decoration-color: #00d7ff\">None</span>, <span style=\"color: #00af00; text-decoration-color: #00af00\">1</span>)              │             <span style=\"color: #00af00; text-decoration-color: #00af00\">9</span> │\n",
       "└─────────────────────────────────┴────────────────────────┴───────────────┘\n",
       "</pre>\n"
      ],
      "text/plain": [
       "┏━━━━━━━━━━━━━━━━━━━━━━━━━━━━━━━━━┳━━━━━━━━━━━━━━━━━━━━━━━━┳━━━━━━━━━━━━━━━┓\n",
       "┃\u001b[1m \u001b[0m\u001b[1mLayer (type)                   \u001b[0m\u001b[1m \u001b[0m┃\u001b[1m \u001b[0m\u001b[1mOutput Shape          \u001b[0m\u001b[1m \u001b[0m┃\u001b[1m \u001b[0m\u001b[1m      Param #\u001b[0m\u001b[1m \u001b[0m┃\n",
       "┡━━━━━━━━━━━━━━━━━━━━━━━━━━━━━━━━━╇━━━━━━━━━━━━━━━━━━━━━━━━╇━━━━━━━━━━━━━━━┩\n",
       "│ input_layer_10 (\u001b[38;5;33mInputLayer\u001b[0m)     │ (\u001b[38;5;45mNone\u001b[0m, \u001b[38;5;34m13\u001b[0m)             │             \u001b[38;5;34m0\u001b[0m │\n",
       "├─────────────────────────────────┼────────────────────────┼───────────────┤\n",
       "│ embedding_layer (\u001b[38;5;33mEmbedding\u001b[0m)     │ (\u001b[38;5;45mNone\u001b[0m, \u001b[38;5;34m13\u001b[0m, \u001b[38;5;34m16\u001b[0m)         │         \u001b[38;5;34m3,440\u001b[0m │\n",
       "├─────────────────────────────────┼────────────────────────┼───────────────┤\n",
       "│ lstm_10 (\u001b[38;5;33mLSTM\u001b[0m)                  │ (\u001b[38;5;45mNone\u001b[0m, \u001b[38;5;34m13\u001b[0m, \u001b[38;5;34m16\u001b[0m)         │         \u001b[38;5;34m2,112\u001b[0m │\n",
       "├─────────────────────────────────┼────────────────────────┼───────────────┤\n",
       "│ dropout_10 (\u001b[38;5;33mDropout\u001b[0m)            │ (\u001b[38;5;45mNone\u001b[0m, \u001b[38;5;34m13\u001b[0m, \u001b[38;5;34m16\u001b[0m)         │             \u001b[38;5;34m0\u001b[0m │\n",
       "├─────────────────────────────────┼────────────────────────┼───────────────┤\n",
       "│ flatten_10 (\u001b[38;5;33mFlatten\u001b[0m)            │ (\u001b[38;5;45mNone\u001b[0m, \u001b[38;5;34m208\u001b[0m)            │             \u001b[38;5;34m0\u001b[0m │\n",
       "├─────────────────────────────────┼────────────────────────┼───────────────┤\n",
       "│ dense_20 (\u001b[38;5;33mDense\u001b[0m)                │ (\u001b[38;5;45mNone\u001b[0m, \u001b[38;5;34m8\u001b[0m)              │         \u001b[38;5;34m1,672\u001b[0m │\n",
       "├─────────────────────────────────┼────────────────────────┼───────────────┤\n",
       "│ dense_21 (\u001b[38;5;33mDense\u001b[0m)                │ (\u001b[38;5;45mNone\u001b[0m, \u001b[38;5;34m1\u001b[0m)              │             \u001b[38;5;34m9\u001b[0m │\n",
       "└─────────────────────────────────┴────────────────────────┴───────────────┘\n"
      ]
     },
     "metadata": {},
     "output_type": "display_data"
    },
    {
     "data": {
      "text/html": [
       "<pre style=\"white-space:pre;overflow-x:auto;line-height:normal;font-family:Menlo,'DejaVu Sans Mono',consolas,'Courier New',monospace\"><span style=\"font-weight: bold\"> Total params: </span><span style=\"color: #00af00; text-decoration-color: #00af00\">7,233</span> (28.25 KB)\n",
       "</pre>\n"
      ],
      "text/plain": [
       "\u001b[1m Total params: \u001b[0m\u001b[38;5;34m7,233\u001b[0m (28.25 KB)\n"
      ]
     },
     "metadata": {},
     "output_type": "display_data"
    },
    {
     "data": {
      "text/html": [
       "<pre style=\"white-space:pre;overflow-x:auto;line-height:normal;font-family:Menlo,'DejaVu Sans Mono',consolas,'Courier New',monospace\"><span style=\"font-weight: bold\"> Trainable params: </span><span style=\"color: #00af00; text-decoration-color: #00af00\">7,233</span> (28.25 KB)\n",
       "</pre>\n"
      ],
      "text/plain": [
       "\u001b[1m Trainable params: \u001b[0m\u001b[38;5;34m7,233\u001b[0m (28.25 KB)\n"
      ]
     },
     "metadata": {},
     "output_type": "display_data"
    },
    {
     "data": {
      "text/html": [
       "<pre style=\"white-space:pre;overflow-x:auto;line-height:normal;font-family:Menlo,'DejaVu Sans Mono',consolas,'Courier New',monospace\"><span style=\"font-weight: bold\"> Non-trainable params: </span><span style=\"color: #00af00; text-decoration-color: #00af00\">0</span> (0.00 B)\n",
       "</pre>\n"
      ],
      "text/plain": [
       "\u001b[1m Non-trainable params: \u001b[0m\u001b[38;5;34m0\u001b[0m (0.00 B)\n"
      ]
     },
     "metadata": {},
     "output_type": "display_data"
    },
    {
     "name": "stdout",
     "output_type": "stream",
     "text": [
      "Epoch 1/6\n",
      "\u001b[1m3540/3540\u001b[0m \u001b[32m━━━━━━━━━━━━━━━━━━━━\u001b[0m\u001b[37m\u001b[0m \u001b[1m11s\u001b[0m 3ms/step - accuracy: 0.7308 - loss: 0.4634\n",
      "Epoch 2/6\n",
      "\u001b[1m3540/3540\u001b[0m \u001b[32m━━━━━━━━━━━━━━━━━━━━\u001b[0m\u001b[37m\u001b[0m \u001b[1m10s\u001b[0m 3ms/step - accuracy: 0.9329 - loss: 0.1517\n",
      "Epoch 3/6\n",
      "\u001b[1m3540/3540\u001b[0m \u001b[32m━━━━━━━━━━━━━━━━━━━━\u001b[0m\u001b[37m\u001b[0m \u001b[1m9s\u001b[0m 2ms/step - accuracy: 0.9478 - loss: 0.1236\n",
      "Epoch 4/6\n",
      "\u001b[1m3540/3540\u001b[0m \u001b[32m━━━━━━━━━━━━━━━━━━━━\u001b[0m\u001b[37m\u001b[0m \u001b[1m9s\u001b[0m 3ms/step - accuracy: 0.9614 - loss: 0.0953\n",
      "Epoch 5/6\n",
      "\u001b[1m3540/3540\u001b[0m \u001b[32m━━━━━━━━━━━━━━━━━━━━\u001b[0m\u001b[37m\u001b[0m \u001b[1m9s\u001b[0m 3ms/step - accuracy: 0.9608 - loss: 0.0901\n",
      "Epoch 6/6\n",
      "\u001b[1m3540/3540\u001b[0m \u001b[32m━━━━━━━━━━━━━━━━━━━━\u001b[0m\u001b[37m\u001b[0m \u001b[1m10s\u001b[0m 3ms/step - accuracy: 0.9645 - loss: 0.0815\n",
      "\u001b[1m222/222\u001b[0m \u001b[32m━━━━━━━━━━━━━━━━━━━━\u001b[0m\u001b[37m\u001b[0m \u001b[1m0s\u001b[0m 866us/step\n",
      "\u001b[1m16/16\u001b[0m \u001b[32m━━━━━━━━━━━━━━━━━━━━\u001b[0m\u001b[37m\u001b[0m \u001b[1m0s\u001b[0m 1ms/step \n"
     ]
    }
   ],
   "source": [
    "train_df = train_emoticon_X_data_100\n",
    "valid_df = valid_emoticon_X_data_100\n",
    "\n",
    "combined_vocab = set()\n",
    "train_df['tokens'] = train_df['text'].apply(lambda x: x.split())\n",
    "combined_vocab.update(train_df['tokens'].explode().unique())\n",
    "print(combined_vocab)\n",
    "valid_df['tokens'] = valid_df['text'].apply(lambda x: x.split())\n",
    "combined_vocab.update(valid_df['tokens'].explode().unique())\n",
    "print(combined_vocab)\n",
    "vocab_dict_100 = {word: idx for idx, word in enumerate(combined_vocab, start=1)}\n",
    "\n",
    "def tokenize_data(df, vocab_dict_100):\n",
    "    return df['tokens'].apply(lambda x: [vocab_dict_100[token] for token in x])\n",
    "\n",
    "train_df['tokenized_text'] = tokenize_data(train_df, vocab_dict_100)\n",
    "valid_df['tokenized_text'] = tokenize_data(valid_df, vocab_dict_100)\n",
    "max_length = 13\n",
    "train_padded = pad_sequences(train_df['tokenized_text'].tolist(), maxlen=max_length, padding='post')\n",
    "valid_padded = pad_sequences(valid_df['tokenized_text'].tolist(), maxlen=max_length, padding='post')\n",
    "\n",
    "embedding_size = 16\n",
    "vocab_size = len(vocab_dict_100) + 1\n",
    "\n",
    "input_layer = Input(shape=(max_length,), dtype='int32')\n",
    "embedding_layer = Embedding(input_dim=vocab_size, output_dim=embedding_size, input_length=max_length, name='embedding_layer')(input_layer)\n",
    "lstm_layer = LSTM(16, return_sequences=True)(embedding_layer)\n",
    "dropout_layer = Dropout(0.2)(lstm_layer)\n",
    "flatten_layer = Flatten()(dropout_layer)\n",
    "dense_layer = Dense(8, activation='relu')(flatten_layer)\n",
    "output_layer = Dense(1, activation='sigmoid')(dense_layer)\n",
    "\n",
    "model_1_100 = Model(inputs=input_layer, outputs=output_layer, name='small_text_embedding_model')\n",
    "model_1_100.compile(optimizer='adam', loss='binary_crossentropy', metrics=['accuracy'])\n",
    "\n",
    "model_1_100.summary()\n",
    "\n",
    "train_labels = train_emoticon_Y_100\n",
    "model_1_100.fit(train_padded, train_labels, epochs=6, batch_size=2)\n",
    "\n",
    "embedding_model_100 = Model(inputs=model_1_100.input, outputs=model_1_100.get_layer(\"embedding_layer\").output)\n",
    "\n",
    "train_embeddings_100 = embedding_model_100.predict(train_padded)\n",
    "valid_embeddings_100 = embedding_model_100.predict(valid_padded)"
   ]
  },
  {
   "cell_type": "code",
   "execution_count": 94,
   "metadata": {},
   "outputs": [],
   "source": [
    "train_emotioc_X_flattened_100 = train_embeddings_100.reshape(train_embeddings_100.shape[0], -1)\n",
    "valid_emotioc_X_flattened_100 = valid_embeddings_100.reshape(valid_embeddings_100.shape[0], -1)\n",
    "\n",
    "train_emoticon_X_encoded_100=pd.DataFrame(train_emotioc_X_flattened_100)\n",
    "valid_emoticon_X_encoded_100=pd.DataFrame(valid_emotioc_X_flattened_100)"
   ]
  },
  {
   "cell_type": "markdown",
   "metadata": {},
   "source": [
    "#### Feature Standardization"
   ]
  },
  {
   "cell_type": "code",
   "execution_count": 95,
   "metadata": {},
   "outputs": [],
   "source": [
    "scaler_100 = StandardScaler()\n",
    "train_emoticon_X_encoded_100 = scaler_100.fit_transform(train_emoticon_X_encoded_100)\n",
    "valid_emoticon_X_encoded_100 = scaler_100.transform(valid_emoticon_X_encoded_100)"
   ]
  },
  {
   "cell_type": "markdown",
   "metadata": {},
   "source": [
    "### Model Training"
   ]
  },
  {
   "cell_type": "code",
   "execution_count": 96,
   "metadata": {},
   "outputs": [],
   "source": [
    "model_100=SVC(C=0.1, degree=2, gamma='auto', kernel='rbf')\n",
    "\n",
    "model_100.fit(train_emoticon_X_encoded_100, train_emoticon_Y_100)\n",
    "\n",
    "y_pred_train_100 = model_100.predict(train_emoticon_X_encoded_100)\n",
    "y_pred_valid_100 = model_100.predict(valid_emoticon_X_encoded_100)"
   ]
  },
  {
   "cell_type": "markdown",
   "metadata": {},
   "source": [
    "### Accuracy Checking"
   ]
  },
  {
   "cell_type": "code",
   "execution_count": 97,
   "metadata": {},
   "outputs": [
    {
     "name": "stdout",
     "output_type": "stream",
     "text": [
      "Accuracy: 96.9325\n",
      "Confusion Matrix:\n",
      "[[244   8]\n",
      " [  7 230]]\n"
     ]
    },
    {
     "data": {
      "text/plain": [
       "<sklearn.metrics._plot.confusion_matrix.ConfusionMatrixDisplay at 0x7ad58ba87580>"
      ]
     },
     "execution_count": 97,
     "metadata": {},
     "output_type": "execute_result"
    },
    {
     "data": {
      "image/png": "[encoded data removed]",
      "text/plain": [
       "<Figure size 640x480 with 2 Axes>"
      ]
     },
     "metadata": {},
     "output_type": "display_data"
    }
   ],
   "source": [
    "accuracy_100 = accuracy_score(valid_emoticon_Y, y_pred_valid_100)\n",
    "conf_matrix = confusion_matrix(valid_emoticon_Y, y_pred_valid_100)\n",
    "\n",
    "print(f\"Accuracy: {accuracy_100*100:.4f}\")\n",
    "print(\"Confusion Matrix:\")\n",
    "print(conf_matrix)\n",
    "\n",
    "disp = ConfusionMatrixDisplay(confusion_matrix=conf_matrix)\n",
    "disp.plot(cmap='Blues')"
   ]
  },
  {
   "cell_type": "markdown",
   "metadata": {},
   "source": [
    "## For 80% Training Data"
   ]
  },
  {
   "cell_type": "markdown",
   "metadata": {},
   "source": [
    "### Feature Transformation and encoding"
   ]
  },
  {
   "cell_type": "markdown",
   "metadata": {},
   "source": [
    "#### Transformation"
   ]
  },
  {
   "cell_type": "code",
   "execution_count": 98,
   "metadata": {},
   "outputs": [],
   "source": [
    "train_emoticon_X_data_80 = [list(input_str) for input_str in train_emoticon_X_80]\n",
    "train_emoticon_X_data_80 = pd.DataFrame(train_emoticon_X_data_80)\n",
    "train_emoticon_X_data_80 = train_emoticon_X_data_80.map(ord)\n",
    "train_emoticon_X_data_80 = train_emoticon_X_data_80.astype(str)\n",
    "train_emoticon_X_data_80 = train_emoticon_X_data_80.apply(lambda row: ' '.join(row.values), axis=1)\n",
    "train_emoticon_X_data_80 = pd.DataFrame(train_emoticon_X_data_80, columns=['text'])"
   ]
  },
  {
   "cell_type": "code",
   "execution_count": 99,
   "metadata": {},
   "outputs": [],
   "source": [
    "valid_emoticon_X_data_80 = [list(input_str) for input_str in valid_emoticon_X]\n",
    "valid_emoticon_X_data_80 = pd.DataFrame(valid_emoticon_X_data_80)\n",
    "valid_emoticon_X_data_80 = valid_emoticon_X_data_80.map(ord)\n",
    "valid_emoticon_X_data_80 = valid_emoticon_X_data_80.astype(str)\n",
    "valid_emoticon_X_data_80 = valid_emoticon_X_data_80.apply(lambda row: ' '.join(row.values), axis=1)\n",
    "valid_emoticon_X_data_80 = pd.DataFrame(valid_emoticon_X_data_80, columns=['text'])"
   ]
  },
  {
   "cell_type": "markdown",
   "metadata": {},
   "source": [
    "#### Embedding"
   ]
  },
  {
   "cell_type": "code",
   "execution_count": 100,
   "metadata": {},
   "outputs": [
    {
     "name": "stdout",
     "output_type": "stream",
     "text": [
      "{'128644', '128594', '128545', '128589', '128591', '128556', '128607', '128530', '128735', '128547', '128541', '128622', '128576', '128562', '128521', '128691', '128733', '128669', '128553', '128677', '128558', '128645', '128548', '128631', '128564', '128526', '128643', '128680', '128549', '128651', '128617', '128580', '128673', '128544', '128732', '128536', '128560', '128711', '128725', '128554', '128710', '128602', '128600', '128542', '128515', '128585', '128599', '128664', '128590', '128566', '128573', '128637', '128687', '128537', '128706', '128688', '128615', '128670', '128581', '128720', '128657', '128681', '128663', '128728', '128690', '128595', '128723', '128727', '128626', '128528', '128726', '128724', '128666', '128568', '128518', '128584', '128512', '128543', '128587', '128655', '128616', '128596', '128630', '128579', '128647', '128693', '128712', '128658', '128672', '128513', '128642', '128527', '128671', '128701', '128715', '128588', '128614', '128650', '128721', '128653', '128638', '128722', '128668', '128533', '128714', '128603', '128719', '128524', '128592', '128649', '128525', '128686', '128531', '128601', '128539', '128641', '128703', '128683', '128704', '128625', '128676', '128709', '128619', '128660', '128639', '128729', '128517', '128652', '128514', '128551', '128717', '128593', '128695', '128606', '128667', '128716', '128632', '128538', '128561', '128552', '128613', '128608', '128697', '128516', '128529', '128570', '128574', '128612', '128618', '128623', '128705', '128540', '128611', '128685', '128737', '128640', '128646', '128604', '128698', '128571', '128662', '128692', '128555', '128532', '128522', '128635', '128627', '128586', '128682', '128665', '128734', '128583', '128678', '128523', '128575', '128659', '128700', '128582', '128628', '128713', '128674', '128679', '128656', '128624', '128557', '128696', '128694', '128636', '128620', '128661', '128689', '128519', '128567', '128565', '128675', '128610', '128550', '128546', '128534', '128708', '128718', '128654', '128559', '128535', '128648', '128577', '128572', '128597', '128598', '128702', '128563', '128633', '128731', '128569'}\n",
      "{'128644', '128594', '128545', '128589', '128591', '128556', '128607', '128530', '128735', '128547', '128541', '128622', '128576', '128562', '128521', '128691', '128733', '128669', '128553', '128677', '128558', '128645', '128548', '128631', '128564', '128526', '128643', '128680', '128549', '128651', '128617', '128580', '128673', '128544', '128732', '128536', '128560', '128711', '128725', '128554', '128710', '128602', '128600', '128542', '128515', '128585', '128599', '128664', '128590', '128566', '128573', '128637', '128687', '128537', '128706', '128688', '128615', '128670', '128581', '128720', '128657', '128681', '128663', '128728', '128690', '128595', '128723', '128727', '128626', '128528', '128726', '128724', '128666', '128568', '128518', '128584', '128512', '128543', '128587', '128655', '128616', '128596', '128630', '128579', '128647', '128693', '128712', '128658', '128672', '128513', '128642', '128527', '128671', '128701', '128715', '128588', '128614', '128650', '128721', '128653', '128638', '128722', '128668', '128533', '128714', '128603', '128719', '128524', '128592', '128649', '128525', '128686', '128531', '128601', '128539', '128641', '128703', '128683', '128704', '128625', '128676', '128709', '128619', '128660', '128639', '128729', '128517', '128652', '128514', '128551', '128717', '128593', '128695', '128606', '128667', '128716', '128632', '128538', '128561', '128552', '128613', '128608', '128697', '128516', '128529', '128570', '128574', '128612', '128618', '128623', '128705', '128540', '128611', '128685', '128737', '128640', '128646', '128604', '128698', '128571', '128662', '128692', '128555', '128532', '128522', '128635', '128627', '128586', '128682', '128665', '128734', '128583', '128678', '128523', '128575', '128659', '128700', '128582', '128628', '128713', '128674', '128679', '128656', '128624', '128557', '128696', '128694', '128636', '128620', '128661', '128689', '128519', '128567', '128565', '128675', '128610', '128550', '128546', '128534', '128708', '128718', '128654', '128559', '128535', '128648', '128577', '128572', '128597', '128598', '128702', '128563', '128633', '128731', '128569'}\n"
     ]
    },
    {
     "name": "stderr",
     "output_type": "stream",
     "text": [
      "/home/nishvaan/.local/lib/python3.10/site-packages/keras/src/layers/core/embedding.py:90: UserWarning: Argument `input_length` is deprecated. Just remove it.\n",
      "  warnings.warn(\n"
     ]
    },
    {
     "data": {
      "text/html": [
       "<pre style=\"white-space:pre;overflow-x:auto;line-height:normal;font-family:Menlo,'DejaVu Sans Mono',consolas,'Courier New',monospace\"><span style=\"font-weight: bold\">Model: \"small_text_embedding_model\"</span>\n",
       "</pre>\n"
      ],
      "text/plain": [
       "\u001b[1mModel: \"small_text_embedding_model\"\u001b[0m\n"
      ]
     },
     "metadata": {},
     "output_type": "display_data"
    },
    {
     "data": {
      "text/html": [
       "<pre style=\"white-space:pre;overflow-x:auto;line-height:normal;font-family:Menlo,'DejaVu Sans Mono',consolas,'Courier New',monospace\">┏━━━━━━━━━━━━━━━━━━━━━━━━━━━━━━━━━┳━━━━━━━━━━━━━━━━━━━━━━━━┳━━━━━━━━━━━━━━━┓\n",
       "┃<span style=\"font-weight: bold\"> Layer (type)                    </span>┃<span style=\"font-weight: bold\"> Output Shape           </span>┃<span style=\"font-weight: bold\">       Param # </span>┃\n",
       "┡━━━━━━━━━━━━━━━━━━━━━━━━━━━━━━━━━╇━━━━━━━━━━━━━━━━━━━━━━━━╇━━━━━━━━━━━━━━━┩\n",
       "│ input_layer_11 (<span style=\"color: #0087ff; text-decoration-color: #0087ff\">InputLayer</span>)     │ (<span style=\"color: #00d7ff; text-decoration-color: #00d7ff\">None</span>, <span style=\"color: #00af00; text-decoration-color: #00af00\">13</span>)             │             <span style=\"color: #00af00; text-decoration-color: #00af00\">0</span> │\n",
       "├─────────────────────────────────┼────────────────────────┼───────────────┤\n",
       "│ embedding_layer (<span style=\"color: #0087ff; text-decoration-color: #0087ff\">Embedding</span>)     │ (<span style=\"color: #00d7ff; text-decoration-color: #00d7ff\">None</span>, <span style=\"color: #00af00; text-decoration-color: #00af00\">13</span>, <span style=\"color: #00af00; text-decoration-color: #00af00\">16</span>)         │         <span style=\"color: #00af00; text-decoration-color: #00af00\">3,440</span> │\n",
       "├─────────────────────────────────┼────────────────────────┼───────────────┤\n",
       "│ lstm_11 (<span style=\"color: #0087ff; text-decoration-color: #0087ff\">LSTM</span>)                  │ (<span style=\"color: #00d7ff; text-decoration-color: #00d7ff\">None</span>, <span style=\"color: #00af00; text-decoration-color: #00af00\">13</span>, <span style=\"color: #00af00; text-decoration-color: #00af00\">16</span>)         │         <span style=\"color: #00af00; text-decoration-color: #00af00\">2,112</span> │\n",
       "├─────────────────────────────────┼────────────────────────┼───────────────┤\n",
       "│ dropout_11 (<span style=\"color: #0087ff; text-decoration-color: #0087ff\">Dropout</span>)            │ (<span style=\"color: #00d7ff; text-decoration-color: #00d7ff\">None</span>, <span style=\"color: #00af00; text-decoration-color: #00af00\">13</span>, <span style=\"color: #00af00; text-decoration-color: #00af00\">16</span>)         │             <span style=\"color: #00af00; text-decoration-color: #00af00\">0</span> │\n",
       "├─────────────────────────────────┼────────────────────────┼───────────────┤\n",
       "│ flatten_11 (<span style=\"color: #0087ff; text-decoration-color: #0087ff\">Flatten</span>)            │ (<span style=\"color: #00d7ff; text-decoration-color: #00d7ff\">None</span>, <span style=\"color: #00af00; text-decoration-color: #00af00\">208</span>)            │             <span style=\"color: #00af00; text-decoration-color: #00af00\">0</span> │\n",
       "├─────────────────────────────────┼────────────────────────┼───────────────┤\n",
       "│ dense_22 (<span style=\"color: #0087ff; text-decoration-color: #0087ff\">Dense</span>)                │ (<span style=\"color: #00d7ff; text-decoration-color: #00d7ff\">None</span>, <span style=\"color: #00af00; text-decoration-color: #00af00\">8</span>)              │         <span style=\"color: #00af00; text-decoration-color: #00af00\">1,672</span> │\n",
       "├─────────────────────────────────┼────────────────────────┼───────────────┤\n",
       "│ dense_23 (<span style=\"color: #0087ff; text-decoration-color: #0087ff\">Dense</span>)                │ (<span style=\"color: #00d7ff; text-decoration-color: #00d7ff\">None</span>, <span style=\"color: #00af00; text-decoration-color: #00af00\">1</span>)              │             <span style=\"color: #00af00; text-decoration-color: #00af00\">9</span> │\n",
       "└─────────────────────────────────┴────────────────────────┴───────────────┘\n",
       "</pre>\n"
      ],
      "text/plain": [
       "┏━━━━━━━━━━━━━━━━━━━━━━━━━━━━━━━━━┳━━━━━━━━━━━━━━━━━━━━━━━━┳━━━━━━━━━━━━━━━┓\n",
       "┃\u001b[1m \u001b[0m\u001b[1mLayer (type)                   \u001b[0m\u001b[1m \u001b[0m┃\u001b[1m \u001b[0m\u001b[1mOutput Shape          \u001b[0m\u001b[1m \u001b[0m┃\u001b[1m \u001b[0m\u001b[1m      Param #\u001b[0m\u001b[1m \u001b[0m┃\n",
       "┡━━━━━━━━━━━━━━━━━━━━━━━━━━━━━━━━━╇━━━━━━━━━━━━━━━━━━━━━━━━╇━━━━━━━━━━━━━━━┩\n",
       "│ input_layer_11 (\u001b[38;5;33mInputLayer\u001b[0m)     │ (\u001b[38;5;45mNone\u001b[0m, \u001b[38;5;34m13\u001b[0m)             │             \u001b[38;5;34m0\u001b[0m │\n",
       "├─────────────────────────────────┼────────────────────────┼───────────────┤\n",
       "│ embedding_layer (\u001b[38;5;33mEmbedding\u001b[0m)     │ (\u001b[38;5;45mNone\u001b[0m, \u001b[38;5;34m13\u001b[0m, \u001b[38;5;34m16\u001b[0m)         │         \u001b[38;5;34m3,440\u001b[0m │\n",
       "├─────────────────────────────────┼────────────────────────┼───────────────┤\n",
       "│ lstm_11 (\u001b[38;5;33mLSTM\u001b[0m)                  │ (\u001b[38;5;45mNone\u001b[0m, \u001b[38;5;34m13\u001b[0m, \u001b[38;5;34m16\u001b[0m)         │         \u001b[38;5;34m2,112\u001b[0m │\n",
       "├─────────────────────────────────┼────────────────────────┼───────────────┤\n",
       "│ dropout_11 (\u001b[38;5;33mDropout\u001b[0m)            │ (\u001b[38;5;45mNone\u001b[0m, \u001b[38;5;34m13\u001b[0m, \u001b[38;5;34m16\u001b[0m)         │             \u001b[38;5;34m0\u001b[0m │\n",
       "├─────────────────────────────────┼────────────────────────┼───────────────┤\n",
       "│ flatten_11 (\u001b[38;5;33mFlatten\u001b[0m)            │ (\u001b[38;5;45mNone\u001b[0m, \u001b[38;5;34m208\u001b[0m)            │             \u001b[38;5;34m0\u001b[0m │\n",
       "├─────────────────────────────────┼────────────────────────┼───────────────┤\n",
       "│ dense_22 (\u001b[38;5;33mDense\u001b[0m)                │ (\u001b[38;5;45mNone\u001b[0m, \u001b[38;5;34m8\u001b[0m)              │         \u001b[38;5;34m1,672\u001b[0m │\n",
       "├─────────────────────────────────┼────────────────────────┼───────────────┤\n",
       "│ dense_23 (\u001b[38;5;33mDense\u001b[0m)                │ (\u001b[38;5;45mNone\u001b[0m, \u001b[38;5;34m1\u001b[0m)              │             \u001b[38;5;34m9\u001b[0m │\n",
       "└─────────────────────────────────┴────────────────────────┴───────────────┘\n"
      ]
     },
     "metadata": {},
     "output_type": "display_data"
    },
    {
     "data": {
      "text/html": [
       "<pre style=\"white-space:pre;overflow-x:auto;line-height:normal;font-family:Menlo,'DejaVu Sans Mono',consolas,'Courier New',monospace\"><span style=\"font-weight: bold\"> Total params: </span><span style=\"color: #00af00; text-decoration-color: #00af00\">7,233</span> (28.25 KB)\n",
       "</pre>\n"
      ],
      "text/plain": [
       "\u001b[1m Total params: \u001b[0m\u001b[38;5;34m7,233\u001b[0m (28.25 KB)\n"
      ]
     },
     "metadata": {},
     "output_type": "display_data"
    },
    {
     "data": {
      "text/html": [
       "<pre style=\"white-space:pre;overflow-x:auto;line-height:normal;font-family:Menlo,'DejaVu Sans Mono',consolas,'Courier New',monospace\"><span style=\"font-weight: bold\"> Trainable params: </span><span style=\"color: #00af00; text-decoration-color: #00af00\">7,233</span> (28.25 KB)\n",
       "</pre>\n"
      ],
      "text/plain": [
       "\u001b[1m Trainable params: \u001b[0m\u001b[38;5;34m7,233\u001b[0m (28.25 KB)\n"
      ]
     },
     "metadata": {},
     "output_type": "display_data"
    },
    {
     "data": {
      "text/html": [
       "<pre style=\"white-space:pre;overflow-x:auto;line-height:normal;font-family:Menlo,'DejaVu Sans Mono',consolas,'Courier New',monospace\"><span style=\"font-weight: bold\"> Non-trainable params: </span><span style=\"color: #00af00; text-decoration-color: #00af00\">0</span> (0.00 B)\n",
       "</pre>\n"
      ],
      "text/plain": [
       "\u001b[1m Non-trainable params: \u001b[0m\u001b[38;5;34m0\u001b[0m (0.00 B)\n"
      ]
     },
     "metadata": {},
     "output_type": "display_data"
    },
    {
     "name": "stdout",
     "output_type": "stream",
     "text": [
      "Epoch 1/6\n",
      "\u001b[1m2832/2832\u001b[0m \u001b[32m━━━━━━━━━━━━━━━━━━━━\u001b[0m\u001b[37m\u001b[0m \u001b[1m11s\u001b[0m 3ms/step - accuracy: 0.6935 - loss: 0.5105\n",
      "Epoch 2/6\n",
      "\u001b[1m2832/2832\u001b[0m \u001b[32m━━━━━━━━━━━━━━━━━━━━\u001b[0m\u001b[37m\u001b[0m \u001b[1m7s\u001b[0m 2ms/step - accuracy: 0.9309 - loss: 0.1639\n",
      "Epoch 3/6\n",
      "\u001b[1m2832/2832\u001b[0m \u001b[32m━━━━━━━━━━━━━━━━━━━━\u001b[0m\u001b[37m\u001b[0m \u001b[1m7s\u001b[0m 2ms/step - accuracy: 0.9443 - loss: 0.1296\n",
      "Epoch 4/6\n",
      "\u001b[1m2832/2832\u001b[0m \u001b[32m━━━━━━━━━━━━━━━━━━━━\u001b[0m\u001b[37m\u001b[0m \u001b[1m7s\u001b[0m 3ms/step - accuracy: 0.9552 - loss: 0.1076\n",
      "Epoch 5/6\n",
      "\u001b[1m2832/2832\u001b[0m \u001b[32m━━━━━━━━━━━━━━━━━━━━\u001b[0m\u001b[37m\u001b[0m \u001b[1m9s\u001b[0m 3ms/step - accuracy: 0.9644 - loss: 0.0890\n",
      "Epoch 6/6\n",
      "\u001b[1m2832/2832\u001b[0m \u001b[32m━━━━━━━━━━━━━━━━━━━━\u001b[0m\u001b[37m\u001b[0m \u001b[1m9s\u001b[0m 3ms/step - accuracy: 0.9649 - loss: 0.0819\n",
      "\u001b[1m177/177\u001b[0m \u001b[32m━━━━━━━━━━━━━━━━━━━━\u001b[0m\u001b[37m\u001b[0m \u001b[1m0s\u001b[0m 737us/step\n",
      "\u001b[1m16/16\u001b[0m \u001b[32m━━━━━━━━━━━━━━━━━━━━\u001b[0m\u001b[37m\u001b[0m \u001b[1m0s\u001b[0m 2ms/step \n"
     ]
    }
   ],
   "source": [
    "train_df = train_emoticon_X_data_80\n",
    "valid_df = valid_emoticon_X_data_80\n",
    "\n",
    "combined_vocab = set()\n",
    "train_df['tokens'] = train_df['text'].apply(lambda x: x.split())\n",
    "combined_vocab.update(train_df['tokens'].explode().unique())\n",
    "print(combined_vocab)\n",
    "valid_df['tokens'] = valid_df['text'].apply(lambda x: x.split())\n",
    "combined_vocab.update(valid_df['tokens'].explode().unique())\n",
    "print(combined_vocab)\n",
    "vocab_dict_80 = {word: idx for idx, word in enumerate(combined_vocab, start=1)}\n",
    "\n",
    "def tokenize_data(df, vocab_dict_80):\n",
    "    return df['tokens'].apply(lambda x: [vocab_dict_80[token] for token in x])\n",
    "\n",
    "train_df['tokenized_text'] = tokenize_data(train_df, vocab_dict_80)\n",
    "valid_df['tokenized_text'] = tokenize_data(valid_df, vocab_dict_80)\n",
    "max_length = 13\n",
    "train_padded = pad_sequences(train_df['tokenized_text'].tolist(), maxlen=max_length, padding='post')\n",
    "valid_padded = pad_sequences(valid_df['tokenized_text'].tolist(), maxlen=max_length, padding='post')\n",
    "\n",
    "embedding_size = 16\n",
    "vocab_size = len(vocab_dict_80) + 1\n",
    "\n",
    "input_layer = Input(shape=(max_length,), dtype='int32')\n",
    "embedding_layer = Embedding(input_dim=vocab_size, output_dim=embedding_size, input_length=max_length, name='embedding_layer')(input_layer)\n",
    "lstm_layer = LSTM(16, return_sequences=True)(embedding_layer)\n",
    "dropout_layer = Dropout(0.2)(lstm_layer)\n",
    "flatten_layer = Flatten()(dropout_layer)\n",
    "dense_layer = Dense(8, activation='relu')(flatten_layer)\n",
    "output_layer = Dense(1, activation='sigmoid')(dense_layer)\n",
    "\n",
    "model_1_80 = Model(inputs=input_layer, outputs=output_layer, name='small_text_embedding_model')\n",
    "model_1_80.compile(optimizer='adam', loss='binary_crossentropy', metrics=['accuracy'])\n",
    "\n",
    "model_1_80.summary()\n",
    "\n",
    "train_labels = train_emoticon_Y_80\n",
    "model_1_80.fit(train_padded, train_labels, epochs=6, batch_size=2)\n",
    "\n",
    "embedding_model_80 = Model(inputs=model_1_80.input, outputs=model_1_80.get_layer(\"embedding_layer\").output)\n",
    "\n",
    "train_embeddings_80 = embedding_model_80.predict(train_padded)\n",
    "valid_embeddings_80 = embedding_model_80.predict(valid_padded)"
   ]
  },
  {
   "cell_type": "code",
   "execution_count": 101,
   "metadata": {},
   "outputs": [],
   "source": [
    "train_emotioc_X_flattened_80 = train_embeddings_80.reshape(train_embeddings_80.shape[0], -1)\n",
    "valid_emotioc_X_flattened_80 = valid_embeddings_80.reshape(valid_embeddings_80.shape[0], -1)\n",
    "\n",
    "train_emoticon_X_encoded_80=pd.DataFrame(train_emotioc_X_flattened_80)\n",
    "valid_emoticon_X_encoded_80=pd.DataFrame(valid_emotioc_X_flattened_80)"
   ]
  },
  {
   "cell_type": "markdown",
   "metadata": {},
   "source": [
    "#### Feature Standardization"
   ]
  },
  {
   "cell_type": "code",
   "execution_count": 102,
   "metadata": {},
   "outputs": [],
   "source": [
    "scaler_80 = StandardScaler()\n",
    "train_emoticon_X_encoded_80 = scaler_80.fit_transform(train_emoticon_X_encoded_80)\n",
    "valid_emoticon_X_encoded_80 = scaler_80.transform(valid_emoticon_X_encoded_80)"
   ]
  },
  {
   "cell_type": "markdown",
   "metadata": {},
   "source": [
    "### Model Training"
   ]
  },
  {
   "cell_type": "code",
   "execution_count": 103,
   "metadata": {},
   "outputs": [],
   "source": [
    "model_80=SVC(C=0.1, degree=2, gamma='auto', kernel='rbf')\n",
    "\n",
    "model_80.fit(train_emoticon_X_encoded_80, train_emoticon_Y_80)\n",
    "\n",
    "y_pred_train_80 = model_80.predict(train_emoticon_X_encoded_80)\n",
    "y_pred_valid_80 = model_80.predict(valid_emoticon_X_encoded_80)"
   ]
  },
  {
   "cell_type": "markdown",
   "metadata": {},
   "source": [
    "### Accuracy Checking"
   ]
  },
  {
   "cell_type": "code",
   "execution_count": 104,
   "metadata": {},
   "outputs": [
    {
     "name": "stdout",
     "output_type": "stream",
     "text": [
      "Accuracy: 96.5235\n",
      "Confusion Matrix:\n",
      "[[244   8]\n",
      " [  9 228]]\n"
     ]
    },
    {
     "data": {
      "text/plain": [
       "<sklearn.metrics._plot.confusion_matrix.ConfusionMatrixDisplay at 0x7ad553b37700>"
      ]
     },
     "execution_count": 104,
     "metadata": {},
     "output_type": "execute_result"
    },
    {
     "data": {
      "image/png": "[encoded data removed]",
      "text/plain": [
       "<Figure size 640x480 with 2 Axes>"
      ]
     },
     "metadata": {},
     "output_type": "display_data"
    }
   ],
   "source": [
    "accuracy_80 = accuracy_score(valid_emoticon_Y, y_pred_valid_80)\n",
    "conf_matrix = confusion_matrix(valid_emoticon_Y, y_pred_valid_80)\n",
    "\n",
    "print(f\"Accuracy: {accuracy_80*100:.4f}\")\n",
    "print(\"Confusion Matrix:\")\n",
    "print(conf_matrix)\n",
    "\n",
    "disp = ConfusionMatrixDisplay(confusion_matrix=conf_matrix)\n",
    "disp.plot(cmap='Blues')"
   ]
  },
  {
   "cell_type": "markdown",
   "metadata": {},
   "source": [
    "## For 60% Training Data"
   ]
  },
  {
   "cell_type": "markdown",
   "metadata": {},
   "source": [
    "### Feature Transformation and embedding"
   ]
  },
  {
   "cell_type": "markdown",
   "metadata": {},
   "source": [
    "#### Transformation"
   ]
  },
  {
   "cell_type": "code",
   "execution_count": 105,
   "metadata": {},
   "outputs": [],
   "source": [
    "train_emoticon_X_data_60 = [list(input_str) for input_str in train_emoticon_X_60]\n",
    "train_emoticon_X_data_60 = pd.DataFrame(train_emoticon_X_data_60)\n",
    "train_emoticon_X_data_60 = train_emoticon_X_data_60.map(ord)\n",
    "train_emoticon_X_data_60 = train_emoticon_X_data_60.astype(str)\n",
    "train_emoticon_X_data_60 = train_emoticon_X_data_60.apply(lambda row: ' '.join(row.values), axis=1)\n",
    "train_emoticon_X_data_60 = pd.DataFrame(train_emoticon_X_data_60, columns=['text'])"
   ]
  },
  {
   "cell_type": "code",
   "execution_count": 106,
   "metadata": {},
   "outputs": [],
   "source": [
    "valid_emoticon_X_data_60 = [list(input_str) for input_str in valid_emoticon_X]\n",
    "valid_emoticon_X_data_60 = pd.DataFrame(valid_emoticon_X_data_60)\n",
    "valid_emoticon_X_data_60 = valid_emoticon_X_data_60.map(ord)\n",
    "valid_emoticon_X_data_60 = valid_emoticon_X_data_60.astype(str)\n",
    "valid_emoticon_X_data_60 = valid_emoticon_X_data_60.apply(lambda row: ' '.join(row.values), axis=1)\n",
    "valid_emoticon_X_data_60 = pd.DataFrame(valid_emoticon_X_data_60, columns=['text'])"
   ]
  },
  {
   "cell_type": "markdown",
   "metadata": {},
   "source": [
    "#### Embedding"
   ]
  },
  {
   "cell_type": "code",
   "execution_count": 107,
   "metadata": {},
   "outputs": [
    {
     "name": "stdout",
     "output_type": "stream",
     "text": [
      "{'128594', '128644', '128545', '128589', '128591', '128556', '128607', '128530', '128735', '128547', '128541', '128622', '128576', '128562', '128521', '128691', '128733', '128669', '128553', '128677', '128558', '128645', '128548', '128631', '128564', '128643', '128680', '128651', '128549', '128617', '128580', '128673', '128544', '128732', '128536', '128560', '128711', '128725', '128554', '128710', '128602', '128600', '128515', '128542', '128585', '128599', '128664', '128566', '128590', '128573', '128637', '128687', '128537', '128706', '128688', '128615', '128670', '128581', '128720', '128657', '128663', '128681', '128728', '128690', '128595', '128723', '128727', '128626', '128528', '128726', '128724', '128666', '128568', '128518', '128584', '128512', '128543', '128587', '128655', '128616', '128596', '128630', '128579', '128647', '128693', '128712', '128672', '128513', '128642', '128527', '128671', '128701', '128715', '128588', '128614', '128569', '128638', '128721', '128653', '128650', '128722', '128714', '128668', '128533', '128603', '128719', '128524', '128592', '128649', '128525', '128686', '128531', '128601', '128539', '128641', '128703', '128683', '128704', '128625', '128676', '128702', '128709', '128619', '128660', '128639', '128652', '128517', '128729', '128514', '128551', '128593', '128717', '128695', '128606', '128667', '128716', '128538', '128632', '128552', '128561', '128613', '128608', '128697', '128516', '128529', '128574', '128570', '128612', '128618', '128623', '128540', '128611', '128705', '128685', '128737', '128640', '128604', '128646', '128698', '128571', '128692', '128662', '128522', '128635', '128532', '128586', '128555', '128682', '128627', '128665', '128734', '128583', '128678', '128523', '128575', '128659', '128700', '128582', '128628', '128713', '128674', '128679', '128656', '128624', '128696', '128557', '128694', '128636', '128620', '128661', '128689', '128519', '128567', '128565', '128610', '128675', '128550', '128546', '128534', '128708', '128718', '128654', '128559', '128535', '128648', '128577', '128572', '128597', '128598', '128658', '128563', '128633', '128731', '128526'}\n",
      "{'128594', '128644', '128545', '128589', '128591', '128556', '128607', '128530', '128735', '128547', '128541', '128622', '128576', '128562', '128521', '128691', '128733', '128669', '128553', '128677', '128558', '128645', '128548', '128631', '128564', '128643', '128680', '128651', '128549', '128617', '128580', '128673', '128544', '128732', '128536', '128560', '128711', '128725', '128554', '128710', '128602', '128600', '128515', '128542', '128585', '128599', '128664', '128566', '128590', '128573', '128637', '128687', '128537', '128706', '128688', '128615', '128670', '128581', '128720', '128657', '128663', '128681', '128728', '128690', '128595', '128723', '128727', '128626', '128528', '128726', '128724', '128666', '128568', '128518', '128584', '128512', '128543', '128587', '128655', '128616', '128596', '128630', '128579', '128647', '128693', '128712', '128672', '128513', '128642', '128527', '128671', '128701', '128715', '128588', '128614', '128569', '128638', '128721', '128653', '128650', '128722', '128714', '128668', '128533', '128603', '128719', '128524', '128592', '128649', '128525', '128686', '128531', '128601', '128539', '128641', '128703', '128683', '128704', '128625', '128676', '128702', '128709', '128619', '128660', '128639', '128652', '128517', '128729', '128514', '128551', '128593', '128717', '128695', '128606', '128667', '128716', '128538', '128632', '128552', '128561', '128613', '128608', '128697', '128516', '128529', '128574', '128570', '128612', '128618', '128623', '128540', '128611', '128705', '128685', '128737', '128640', '128604', '128646', '128698', '128571', '128692', '128662', '128522', '128635', '128532', '128586', '128555', '128682', '128627', '128665', '128734', '128583', '128678', '128523', '128575', '128659', '128700', '128582', '128628', '128713', '128674', '128679', '128656', '128624', '128696', '128557', '128694', '128636', '128620', '128661', '128689', '128519', '128567', '128565', '128610', '128675', '128550', '128546', '128534', '128708', '128718', '128654', '128559', '128535', '128648', '128577', '128572', '128597', '128598', '128658', '128563', '128633', '128731', '128526'}\n"
     ]
    },
    {
     "name": "stderr",
     "output_type": "stream",
     "text": [
      "/home/nishvaan/.local/lib/python3.10/site-packages/keras/src/layers/core/embedding.py:90: UserWarning: Argument `input_length` is deprecated. Just remove it.\n",
      "  warnings.warn(\n"
     ]
    },
    {
     "data": {
      "text/html": [
       "<pre style=\"white-space:pre;overflow-x:auto;line-height:normal;font-family:Menlo,'DejaVu Sans Mono',consolas,'Courier New',monospace\"><span style=\"font-weight: bold\">Model: \"small_text_embedding_model\"</span>\n",
       "</pre>\n"
      ],
      "text/plain": [
       "\u001b[1mModel: \"small_text_embedding_model\"\u001b[0m\n"
      ]
     },
     "metadata": {},
     "output_type": "display_data"
    },
    {
     "data": {
      "text/html": [
       "<pre style=\"white-space:pre;overflow-x:auto;line-height:normal;font-family:Menlo,'DejaVu Sans Mono',consolas,'Courier New',monospace\">┏━━━━━━━━━━━━━━━━━━━━━━━━━━━━━━━━━┳━━━━━━━━━━━━━━━━━━━━━━━━┳━━━━━━━━━━━━━━━┓\n",
       "┃<span style=\"font-weight: bold\"> Layer (type)                    </span>┃<span style=\"font-weight: bold\"> Output Shape           </span>┃<span style=\"font-weight: bold\">       Param # </span>┃\n",
       "┡━━━━━━━━━━━━━━━━━━━━━━━━━━━━━━━━━╇━━━━━━━━━━━━━━━━━━━━━━━━╇━━━━━━━━━━━━━━━┩\n",
       "│ input_layer_12 (<span style=\"color: #0087ff; text-decoration-color: #0087ff\">InputLayer</span>)     │ (<span style=\"color: #00d7ff; text-decoration-color: #00d7ff\">None</span>, <span style=\"color: #00af00; text-decoration-color: #00af00\">13</span>)             │             <span style=\"color: #00af00; text-decoration-color: #00af00\">0</span> │\n",
       "├─────────────────────────────────┼────────────────────────┼───────────────┤\n",
       "│ embedding_layer (<span style=\"color: #0087ff; text-decoration-color: #0087ff\">Embedding</span>)     │ (<span style=\"color: #00d7ff; text-decoration-color: #00d7ff\">None</span>, <span style=\"color: #00af00; text-decoration-color: #00af00\">13</span>, <span style=\"color: #00af00; text-decoration-color: #00af00\">16</span>)         │         <span style=\"color: #00af00; text-decoration-color: #00af00\">3,440</span> │\n",
       "├─────────────────────────────────┼────────────────────────┼───────────────┤\n",
       "│ lstm_12 (<span style=\"color: #0087ff; text-decoration-color: #0087ff\">LSTM</span>)                  │ (<span style=\"color: #00d7ff; text-decoration-color: #00d7ff\">None</span>, <span style=\"color: #00af00; text-decoration-color: #00af00\">13</span>, <span style=\"color: #00af00; text-decoration-color: #00af00\">16</span>)         │         <span style=\"color: #00af00; text-decoration-color: #00af00\">2,112</span> │\n",
       "├─────────────────────────────────┼────────────────────────┼───────────────┤\n",
       "│ dropout_12 (<span style=\"color: #0087ff; text-decoration-color: #0087ff\">Dropout</span>)            │ (<span style=\"color: #00d7ff; text-decoration-color: #00d7ff\">None</span>, <span style=\"color: #00af00; text-decoration-color: #00af00\">13</span>, <span style=\"color: #00af00; text-decoration-color: #00af00\">16</span>)         │             <span style=\"color: #00af00; text-decoration-color: #00af00\">0</span> │\n",
       "├─────────────────────────────────┼────────────────────────┼───────────────┤\n",
       "│ flatten_12 (<span style=\"color: #0087ff; text-decoration-color: #0087ff\">Flatten</span>)            │ (<span style=\"color: #00d7ff; text-decoration-color: #00d7ff\">None</span>, <span style=\"color: #00af00; text-decoration-color: #00af00\">208</span>)            │             <span style=\"color: #00af00; text-decoration-color: #00af00\">0</span> │\n",
       "├─────────────────────────────────┼────────────────────────┼───────────────┤\n",
       "│ dense_24 (<span style=\"color: #0087ff; text-decoration-color: #0087ff\">Dense</span>)                │ (<span style=\"color: #00d7ff; text-decoration-color: #00d7ff\">None</span>, <span style=\"color: #00af00; text-decoration-color: #00af00\">8</span>)              │         <span style=\"color: #00af00; text-decoration-color: #00af00\">1,672</span> │\n",
       "├─────────────────────────────────┼────────────────────────┼───────────────┤\n",
       "│ dense_25 (<span style=\"color: #0087ff; text-decoration-color: #0087ff\">Dense</span>)                │ (<span style=\"color: #00d7ff; text-decoration-color: #00d7ff\">None</span>, <span style=\"color: #00af00; text-decoration-color: #00af00\">1</span>)              │             <span style=\"color: #00af00; text-decoration-color: #00af00\">9</span> │\n",
       "└─────────────────────────────────┴────────────────────────┴───────────────┘\n",
       "</pre>\n"
      ],
      "text/plain": [
       "┏━━━━━━━━━━━━━━━━━━━━━━━━━━━━━━━━━┳━━━━━━━━━━━━━━━━━━━━━━━━┳━━━━━━━━━━━━━━━┓\n",
       "┃\u001b[1m \u001b[0m\u001b[1mLayer (type)                   \u001b[0m\u001b[1m \u001b[0m┃\u001b[1m \u001b[0m\u001b[1mOutput Shape          \u001b[0m\u001b[1m \u001b[0m┃\u001b[1m \u001b[0m\u001b[1m      Param #\u001b[0m\u001b[1m \u001b[0m┃\n",
       "┡━━━━━━━━━━━━━━━━━━━━━━━━━━━━━━━━━╇━━━━━━━━━━━━━━━━━━━━━━━━╇━━━━━━━━━━━━━━━┩\n",
       "│ input_layer_12 (\u001b[38;5;33mInputLayer\u001b[0m)     │ (\u001b[38;5;45mNone\u001b[0m, \u001b[38;5;34m13\u001b[0m)             │             \u001b[38;5;34m0\u001b[0m │\n",
       "├─────────────────────────────────┼────────────────────────┼───────────────┤\n",
       "│ embedding_layer (\u001b[38;5;33mEmbedding\u001b[0m)     │ (\u001b[38;5;45mNone\u001b[0m, \u001b[38;5;34m13\u001b[0m, \u001b[38;5;34m16\u001b[0m)         │         \u001b[38;5;34m3,440\u001b[0m │\n",
       "├─────────────────────────────────┼────────────────────────┼───────────────┤\n",
       "│ lstm_12 (\u001b[38;5;33mLSTM\u001b[0m)                  │ (\u001b[38;5;45mNone\u001b[0m, \u001b[38;5;34m13\u001b[0m, \u001b[38;5;34m16\u001b[0m)         │         \u001b[38;5;34m2,112\u001b[0m │\n",
       "├─────────────────────────────────┼────────────────────────┼───────────────┤\n",
       "│ dropout_12 (\u001b[38;5;33mDropout\u001b[0m)            │ (\u001b[38;5;45mNone\u001b[0m, \u001b[38;5;34m13\u001b[0m, \u001b[38;5;34m16\u001b[0m)         │             \u001b[38;5;34m0\u001b[0m │\n",
       "├─────────────────────────────────┼────────────────────────┼───────────────┤\n",
       "│ flatten_12 (\u001b[38;5;33mFlatten\u001b[0m)            │ (\u001b[38;5;45mNone\u001b[0m, \u001b[38;5;34m208\u001b[0m)            │             \u001b[38;5;34m0\u001b[0m │\n",
       "├─────────────────────────────────┼────────────────────────┼───────────────┤\n",
       "│ dense_24 (\u001b[38;5;33mDense\u001b[0m)                │ (\u001b[38;5;45mNone\u001b[0m, \u001b[38;5;34m8\u001b[0m)              │         \u001b[38;5;34m1,672\u001b[0m │\n",
       "├─────────────────────────────────┼────────────────────────┼───────────────┤\n",
       "│ dense_25 (\u001b[38;5;33mDense\u001b[0m)                │ (\u001b[38;5;45mNone\u001b[0m, \u001b[38;5;34m1\u001b[0m)              │             \u001b[38;5;34m9\u001b[0m │\n",
       "└─────────────────────────────────┴────────────────────────┴───────────────┘\n"
      ]
     },
     "metadata": {},
     "output_type": "display_data"
    },
    {
     "data": {
      "text/html": [
       "<pre style=\"white-space:pre;overflow-x:auto;line-height:normal;font-family:Menlo,'DejaVu Sans Mono',consolas,'Courier New',monospace\"><span style=\"font-weight: bold\"> Total params: </span><span style=\"color: #00af00; text-decoration-color: #00af00\">7,233</span> (28.25 KB)\n",
       "</pre>\n"
      ],
      "text/plain": [
       "\u001b[1m Total params: \u001b[0m\u001b[38;5;34m7,233\u001b[0m (28.25 KB)\n"
      ]
     },
     "metadata": {},
     "output_type": "display_data"
    },
    {
     "data": {
      "text/html": [
       "<pre style=\"white-space:pre;overflow-x:auto;line-height:normal;font-family:Menlo,'DejaVu Sans Mono',consolas,'Courier New',monospace\"><span style=\"font-weight: bold\"> Trainable params: </span><span style=\"color: #00af00; text-decoration-color: #00af00\">7,233</span> (28.25 KB)\n",
       "</pre>\n"
      ],
      "text/plain": [
       "\u001b[1m Trainable params: \u001b[0m\u001b[38;5;34m7,233\u001b[0m (28.25 KB)\n"
      ]
     },
     "metadata": {},
     "output_type": "display_data"
    },
    {
     "data": {
      "text/html": [
       "<pre style=\"white-space:pre;overflow-x:auto;line-height:normal;font-family:Menlo,'DejaVu Sans Mono',consolas,'Courier New',monospace\"><span style=\"font-weight: bold\"> Non-trainable params: </span><span style=\"color: #00af00; text-decoration-color: #00af00\">0</span> (0.00 B)\n",
       "</pre>\n"
      ],
      "text/plain": [
       "\u001b[1m Non-trainable params: \u001b[0m\u001b[38;5;34m0\u001b[0m (0.00 B)\n"
      ]
     },
     "metadata": {},
     "output_type": "display_data"
    },
    {
     "name": "stdout",
     "output_type": "stream",
     "text": [
      "Epoch 1/6\n",
      "\u001b[1m2124/2124\u001b[0m \u001b[32m━━━━━━━━━━━━━━━━━━━━\u001b[0m\u001b[37m\u001b[0m \u001b[1m9s\u001b[0m 3ms/step - accuracy: 0.6740 - loss: 0.5518\n",
      "Epoch 2/6\n",
      "\u001b[1m2124/2124\u001b[0m \u001b[32m━━━━━━━━━━━━━━━━━━━━\u001b[0m\u001b[37m\u001b[0m \u001b[1m5s\u001b[0m 3ms/step - accuracy: 0.9282 - loss: 0.1829\n",
      "Epoch 3/6\n",
      "\u001b[1m2124/2124\u001b[0m \u001b[32m━━━━━━━━━━━━━━━━━━━━\u001b[0m\u001b[37m\u001b[0m \u001b[1m6s\u001b[0m 3ms/step - accuracy: 0.9442 - loss: 0.1313\n",
      "Epoch 4/6\n",
      "\u001b[1m2124/2124\u001b[0m \u001b[32m━━━━━━━━━━━━━━━━━━━━\u001b[0m\u001b[37m\u001b[0m \u001b[1m7s\u001b[0m 3ms/step - accuracy: 0.9613 - loss: 0.1067\n",
      "Epoch 5/6\n",
      "\u001b[1m2124/2124\u001b[0m \u001b[32m━━━━━━━━━━━━━━━━━━━━\u001b[0m\u001b[37m\u001b[0m \u001b[1m6s\u001b[0m 3ms/step - accuracy: 0.9652 - loss: 0.0932\n",
      "Epoch 6/6\n",
      "\u001b[1m2124/2124\u001b[0m \u001b[32m━━━━━━━━━━━━━━━━━━━━\u001b[0m\u001b[37m\u001b[0m \u001b[1m6s\u001b[0m 3ms/step - accuracy: 0.9668 - loss: 0.0833\n",
      "\u001b[1m133/133\u001b[0m \u001b[32m━━━━━━━━━━━━━━━━━━━━\u001b[0m\u001b[37m\u001b[0m \u001b[1m0s\u001b[0m 786us/step\n",
      "\u001b[1m16/16\u001b[0m \u001b[32m━━━━━━━━━━━━━━━━━━━━\u001b[0m\u001b[37m\u001b[0m \u001b[1m0s\u001b[0m 907us/step\n"
     ]
    }
   ],
   "source": [
    "train_df = train_emoticon_X_data_60\n",
    "valid_df = valid_emoticon_X_data_60\n",
    "\n",
    "combined_vocab = set()\n",
    "train_df['tokens'] = train_df['text'].apply(lambda x: x.split())\n",
    "combined_vocab.update(train_df['tokens'].explode().unique())\n",
    "print(combined_vocab)\n",
    "valid_df['tokens'] = valid_df['text'].apply(lambda x: x.split())\n",
    "combined_vocab.update(valid_df['tokens'].explode().unique())\n",
    "print(combined_vocab)\n",
    "vocab_dict_60 = {word: idx for idx, word in enumerate(combined_vocab, start=1)}\n",
    "\n",
    "def tokenize_data(df, vocab_dict_60):\n",
    "    return df['tokens'].apply(lambda x: [vocab_dict_60[token] for token in x])\n",
    "\n",
    "train_df['tokenized_text'] = tokenize_data(train_df, vocab_dict_60)\n",
    "valid_df['tokenized_text'] = tokenize_data(valid_df, vocab_dict_60)\n",
    "max_length = 13\n",
    "train_padded = pad_sequences(train_df['tokenized_text'].tolist(), maxlen=max_length, padding='post')\n",
    "valid_padded = pad_sequences(valid_df['tokenized_text'].tolist(), maxlen=max_length, padding='post')\n",
    "\n",
    "embedding_size = 16\n",
    "vocab_size = len(vocab_dict_60) + 1\n",
    "\n",
    "input_layer = Input(shape=(max_length,), dtype='int32')\n",
    "embedding_layer = Embedding(input_dim=vocab_size, output_dim=embedding_size, input_length=max_length, name='embedding_layer')(input_layer)\n",
    "lstm_layer = LSTM(16, return_sequences=True)(embedding_layer)\n",
    "dropout_layer = Dropout(0.2)(lstm_layer)\n",
    "flatten_layer = Flatten()(dropout_layer)\n",
    "dense_layer = Dense(8, activation='relu')(flatten_layer)\n",
    "output_layer = Dense(1, activation='sigmoid')(dense_layer)\n",
    "\n",
    "model_1_60 = Model(inputs=input_layer, outputs=output_layer, name='small_text_embedding_model')\n",
    "model_1_60.compile(optimizer='adam', loss='binary_crossentropy', metrics=['accuracy'])\n",
    "\n",
    "model_1_60.summary()\n",
    "\n",
    "train_labels = train_emoticon_Y_60\n",
    "model_1_60.fit(train_padded, train_labels, epochs=6, batch_size=2)\n",
    "\n",
    "embedding_model_60 = Model(inputs=model_1_60.input, outputs=model_1_60.get_layer(\"embedding_layer\").output)\n",
    "\n",
    "train_embeddings_60 = embedding_model_60.predict(train_padded)\n",
    "valid_embeddings_60 = embedding_model_60.predict(valid_padded)"
   ]
  },
  {
   "cell_type": "code",
   "execution_count": 108,
   "metadata": {},
   "outputs": [],
   "source": [
    "train_emotioc_X_flattened_60 = train_embeddings_60.reshape(train_embeddings_60.shape[0], -1)\n",
    "valid_emotioc_X_flattened_60 = valid_embeddings_60.reshape(valid_embeddings_60.shape[0], -1)\n",
    "\n",
    "train_emoticon_X_encoded_60=pd.DataFrame(train_emotioc_X_flattened_60)\n",
    "valid_emoticon_X_encoded_60=pd.DataFrame(valid_emotioc_X_flattened_60)"
   ]
  },
  {
   "cell_type": "markdown",
   "metadata": {},
   "source": [
    "#### Feature Standardization"
   ]
  },
  {
   "cell_type": "code",
   "execution_count": 109,
   "metadata": {},
   "outputs": [],
   "source": [
    "scaler_60 = StandardScaler()\n",
    "train_emoticon_X_encoded_60 = scaler_60.fit_transform(train_emoticon_X_encoded_60)\n",
    "valid_emoticon_X_encoded_60 = scaler_60.transform(valid_emoticon_X_encoded_60)"
   ]
  },
  {
   "cell_type": "markdown",
   "metadata": {},
   "source": [
    "### Model Training"
   ]
  },
  {
   "cell_type": "code",
   "execution_count": 110,
   "metadata": {},
   "outputs": [],
   "source": [
    "model_60=SVC(C=0.1, degree=2, gamma='auto', kernel='rbf')\n",
    "\n",
    "model_60.fit(train_emoticon_X_encoded_60, train_emoticon_Y_60)\n",
    "\n",
    "y_pred_train_60 = model_60.predict(train_emoticon_X_encoded_60)\n",
    "y_pred_valid_60 = model_60.predict(valid_emoticon_X_encoded_60)"
   ]
  },
  {
   "cell_type": "markdown",
   "metadata": {},
   "source": [
    "### Accuracy Checking"
   ]
  },
  {
   "cell_type": "code",
   "execution_count": 111,
   "metadata": {},
   "outputs": [
    {
     "name": "stdout",
     "output_type": "stream",
     "text": [
      "Accuracy: 95.7055\n",
      "Confusion Matrix:\n",
      "[[242  10]\n",
      " [ 11 226]]\n"
     ]
    },
    {
     "data": {
      "text/plain": [
       "<sklearn.metrics._plot.confusion_matrix.ConfusionMatrixDisplay at 0x7ad5800df430>"
      ]
     },
     "execution_count": 111,
     "metadata": {},
     "output_type": "execute_result"
    },
    {
     "data": {
      "image/png": "[encoded data removed]",
      "text/plain": [
       "<Figure size 640x480 with 2 Axes>"
      ]
     },
     "metadata": {},
     "output_type": "display_data"
    }
   ],
   "source": [
    "accuracy_60 = accuracy_score(valid_emoticon_Y, y_pred_valid_60)\n",
    "conf_matrix = confusion_matrix(valid_emoticon_Y, y_pred_valid_60)\n",
    "\n",
    "print(f\"Accuracy: {accuracy_60*100:.4f}\")\n",
    "print(\"Confusion Matrix:\")\n",
    "print(conf_matrix)\n",
    "\n",
    "disp = ConfusionMatrixDisplay(confusion_matrix=conf_matrix)\n",
    "disp.plot(cmap='Blues')"
   ]
  },
  {
   "cell_type": "markdown",
   "metadata": {},
   "source": [
    "## For 40% Training Data"
   ]
  },
  {
   "cell_type": "markdown",
   "metadata": {},
   "source": [
    "### Feature Transformation and Encoding"
   ]
  },
  {
   "cell_type": "markdown",
   "metadata": {},
   "source": [
    "#### Transformation"
   ]
  },
  {
   "cell_type": "code",
   "execution_count": 112,
   "metadata": {},
   "outputs": [],
   "source": [
    "train_emoticon_X_data_40 = [list(input_str) for input_str in train_emoticon_X_40]\n",
    "train_emoticon_X_data_40 = pd.DataFrame(train_emoticon_X_data_40)\n",
    "train_emoticon_X_data_40 = train_emoticon_X_data_40.map(ord)\n",
    "train_emoticon_X_data_40 = train_emoticon_X_data_40.astype(str)\n",
    "train_emoticon_X_data_40 = train_emoticon_X_data_40.apply(lambda row: ' '.join(row.values), axis=1)\n",
    "train_emoticon_X_data_40 = pd.DataFrame(train_emoticon_X_data_40, columns=['text'])"
   ]
  },
  {
   "cell_type": "code",
   "execution_count": 113,
   "metadata": {},
   "outputs": [],
   "source": [
    "valid_emoticon_X_data_40 = [list(input_str) for input_str in valid_emoticon_X]\n",
    "valid_emoticon_X_data_40 = pd.DataFrame(valid_emoticon_X_data_40)\n",
    "valid_emoticon_X_data_40 = valid_emoticon_X_data_40.map(ord)\n",
    "valid_emoticon_X_data_40 = valid_emoticon_X_data_40.astype(str)\n",
    "valid_emoticon_X_data_40 = valid_emoticon_X_data_40.apply(lambda row: ' '.join(row.values), axis=1)\n",
    "valid_emoticon_X_data_40 = pd.DataFrame(valid_emoticon_X_data_40, columns=['text'])"
   ]
  },
  {
   "cell_type": "markdown",
   "metadata": {},
   "source": [
    "#### Embedding"
   ]
  },
  {
   "cell_type": "code",
   "execution_count": 114,
   "metadata": {},
   "outputs": [
    {
     "name": "stdout",
     "output_type": "stream",
     "text": [
      "{'128644', '128594', '128545', '128589', '128591', '128556', '128607', '128530', '128735', '128547', '128541', '128622', '128576', '128562', '128521', '128691', '128733', '128669', '128553', '128677', '128558', '128645', '128548', '128631', '128564', '128526', '128643', '128680', '128549', '128651', '128617', '128580', '128673', '128544', '128732', '128536', '128560', '128711', '128725', '128554', '128710', '128602', '128600', '128515', '128542', '128585', '128599', '128664', '128566', '128573', '128590', '128637', '128687', '128537', '128706', '128688', '128670', '128615', '128663', '128720', '128657', '128581', '128681', '128728', '128595', '128690', '128727', '128723', '128528', '128626', '128666', '128724', '128726', '128568', '128518', '128584', '128512', '128543', '128587', '128655', '128616', '128596', '128630', '128579', '128712', '128693', '128647', '128658', '128672', '128513', '128642', '128527', '128715', '128701', '128671', '128588', '128614', '128650', '128721', '128653', '128638', '128722', '128668', '128533', '128714', '128603', '128524', '128719', '128592', '128525', '128686', '128649', '128601', '128531', '128539', '128641', '128703', '128683', '128704', '128625', '128676', '128709', '128619', '128660', '128729', '128652', '128517', '128639', '128514', '128551', '128717', '128593', '128695', '128606', '128667', '128716', '128632', '128538', '128552', '128561', '128613', '128608', '128697', '128570', '128529', '128574', '128516', '128612', '128618', '128623', '128705', '128540', '128611', '128685', '128737', '128646', '128604', '128640', '128698', '128571', '128692', '128662', '128522', '128532', '128682', '128627', '128586', '128555', '128635', '128665', '128583', '128734', '128678', '128523', '128575', '128659', '128700', '128628', '128582', '128713', '128679', '128674', '128656', '128624', '128696', '128557', '128694', '128636', '128620', '128661', '128689', '128519', '128567', '128565', '128610', '128675', '128550', '128546', '128534', '128718', '128708', '128654', '128559', '128535', '128648', '128577', '128572', '128597', '128598', '128702', '128563', '128633', '128731', '128569'}\n",
      "{'128644', '128594', '128545', '128589', '128591', '128556', '128607', '128530', '128735', '128547', '128541', '128622', '128576', '128562', '128521', '128691', '128733', '128669', '128553', '128677', '128558', '128645', '128548', '128631', '128564', '128526', '128643', '128680', '128549', '128651', '128617', '128580', '128673', '128544', '128732', '128536', '128560', '128711', '128725', '128554', '128710', '128602', '128600', '128515', '128542', '128585', '128599', '128664', '128566', '128573', '128590', '128637', '128687', '128537', '128706', '128688', '128670', '128615', '128663', '128720', '128657', '128581', '128681', '128728', '128595', '128690', '128727', '128723', '128528', '128626', '128666', '128724', '128726', '128568', '128518', '128584', '128512', '128543', '128587', '128655', '128616', '128596', '128630', '128579', '128712', '128693', '128647', '128658', '128672', '128513', '128642', '128527', '128715', '128701', '128671', '128588', '128614', '128650', '128721', '128653', '128638', '128722', '128668', '128533', '128714', '128603', '128524', '128719', '128592', '128525', '128686', '128649', '128601', '128531', '128539', '128641', '128703', '128683', '128704', '128625', '128676', '128709', '128619', '128660', '128729', '128652', '128517', '128639', '128514', '128551', '128717', '128593', '128695', '128606', '128667', '128716', '128632', '128538', '128552', '128561', '128613', '128608', '128697', '128570', '128529', '128574', '128516', '128612', '128618', '128623', '128705', '128540', '128611', '128685', '128737', '128646', '128604', '128640', '128698', '128571', '128692', '128662', '128522', '128532', '128682', '128627', '128586', '128555', '128635', '128665', '128583', '128734', '128678', '128523', '128575', '128659', '128700', '128628', '128582', '128713', '128679', '128674', '128656', '128624', '128696', '128557', '128694', '128636', '128620', '128661', '128689', '128519', '128567', '128565', '128610', '128675', '128550', '128546', '128534', '128718', '128708', '128654', '128559', '128535', '128648', '128577', '128572', '128597', '128598', '128702', '128563', '128633', '128731', '128569'}\n"
     ]
    },
    {
     "name": "stderr",
     "output_type": "stream",
     "text": [
      "/home/nishvaan/.local/lib/python3.10/site-packages/keras/src/layers/core/embedding.py:90: UserWarning: Argument `input_length` is deprecated. Just remove it.\n",
      "  warnings.warn(\n"
     ]
    },
    {
     "data": {
      "text/html": [
       "<pre style=\"white-space:pre;overflow-x:auto;line-height:normal;font-family:Menlo,'DejaVu Sans Mono',consolas,'Courier New',monospace\"><span style=\"font-weight: bold\">Model: \"small_text_embedding_model\"</span>\n",
       "</pre>\n"
      ],
      "text/plain": [
       "\u001b[1mModel: \"small_text_embedding_model\"\u001b[0m\n"
      ]
     },
     "metadata": {},
     "output_type": "display_data"
    },
    {
     "data": {
      "text/html": [
       "<pre style=\"white-space:pre;overflow-x:auto;line-height:normal;font-family:Menlo,'DejaVu Sans Mono',consolas,'Courier New',monospace\">┏━━━━━━━━━━━━━━━━━━━━━━━━━━━━━━━━━┳━━━━━━━━━━━━━━━━━━━━━━━━┳━━━━━━━━━━━━━━━┓\n",
       "┃<span style=\"font-weight: bold\"> Layer (type)                    </span>┃<span style=\"font-weight: bold\"> Output Shape           </span>┃<span style=\"font-weight: bold\">       Param # </span>┃\n",
       "┡━━━━━━━━━━━━━━━━━━━━━━━━━━━━━━━━━╇━━━━━━━━━━━━━━━━━━━━━━━━╇━━━━━━━━━━━━━━━┩\n",
       "│ input_layer_13 (<span style=\"color: #0087ff; text-decoration-color: #0087ff\">InputLayer</span>)     │ (<span style=\"color: #00d7ff; text-decoration-color: #00d7ff\">None</span>, <span style=\"color: #00af00; text-decoration-color: #00af00\">13</span>)             │             <span style=\"color: #00af00; text-decoration-color: #00af00\">0</span> │\n",
       "├─────────────────────────────────┼────────────────────────┼───────────────┤\n",
       "│ embedding_layer (<span style=\"color: #0087ff; text-decoration-color: #0087ff\">Embedding</span>)     │ (<span style=\"color: #00d7ff; text-decoration-color: #00d7ff\">None</span>, <span style=\"color: #00af00; text-decoration-color: #00af00\">13</span>, <span style=\"color: #00af00; text-decoration-color: #00af00\">16</span>)         │         <span style=\"color: #00af00; text-decoration-color: #00af00\">3,440</span> │\n",
       "├─────────────────────────────────┼────────────────────────┼───────────────┤\n",
       "│ lstm_13 (<span style=\"color: #0087ff; text-decoration-color: #0087ff\">LSTM</span>)                  │ (<span style=\"color: #00d7ff; text-decoration-color: #00d7ff\">None</span>, <span style=\"color: #00af00; text-decoration-color: #00af00\">13</span>, <span style=\"color: #00af00; text-decoration-color: #00af00\">16</span>)         │         <span style=\"color: #00af00; text-decoration-color: #00af00\">2,112</span> │\n",
       "├─────────────────────────────────┼────────────────────────┼───────────────┤\n",
       "│ dropout_13 (<span style=\"color: #0087ff; text-decoration-color: #0087ff\">Dropout</span>)            │ (<span style=\"color: #00d7ff; text-decoration-color: #00d7ff\">None</span>, <span style=\"color: #00af00; text-decoration-color: #00af00\">13</span>, <span style=\"color: #00af00; text-decoration-color: #00af00\">16</span>)         │             <span style=\"color: #00af00; text-decoration-color: #00af00\">0</span> │\n",
       "├─────────────────────────────────┼────────────────────────┼───────────────┤\n",
       "│ flatten_13 (<span style=\"color: #0087ff; text-decoration-color: #0087ff\">Flatten</span>)            │ (<span style=\"color: #00d7ff; text-decoration-color: #00d7ff\">None</span>, <span style=\"color: #00af00; text-decoration-color: #00af00\">208</span>)            │             <span style=\"color: #00af00; text-decoration-color: #00af00\">0</span> │\n",
       "├─────────────────────────────────┼────────────────────────┼───────────────┤\n",
       "│ dense_26 (<span style=\"color: #0087ff; text-decoration-color: #0087ff\">Dense</span>)                │ (<span style=\"color: #00d7ff; text-decoration-color: #00d7ff\">None</span>, <span style=\"color: #00af00; text-decoration-color: #00af00\">8</span>)              │         <span style=\"color: #00af00; text-decoration-color: #00af00\">1,672</span> │\n",
       "├─────────────────────────────────┼────────────────────────┼───────────────┤\n",
       "│ dense_27 (<span style=\"color: #0087ff; text-decoration-color: #0087ff\">Dense</span>)                │ (<span style=\"color: #00d7ff; text-decoration-color: #00d7ff\">None</span>, <span style=\"color: #00af00; text-decoration-color: #00af00\">1</span>)              │             <span style=\"color: #00af00; text-decoration-color: #00af00\">9</span> │\n",
       "└─────────────────────────────────┴────────────────────────┴───────────────┘\n",
       "</pre>\n"
      ],
      "text/plain": [
       "┏━━━━━━━━━━━━━━━━━━━━━━━━━━━━━━━━━┳━━━━━━━━━━━━━━━━━━━━━━━━┳━━━━━━━━━━━━━━━┓\n",
       "┃\u001b[1m \u001b[0m\u001b[1mLayer (type)                   \u001b[0m\u001b[1m \u001b[0m┃\u001b[1m \u001b[0m\u001b[1mOutput Shape          \u001b[0m\u001b[1m \u001b[0m┃\u001b[1m \u001b[0m\u001b[1m      Param #\u001b[0m\u001b[1m \u001b[0m┃\n",
       "┡━━━━━━━━━━━━━━━━━━━━━━━━━━━━━━━━━╇━━━━━━━━━━━━━━━━━━━━━━━━╇━━━━━━━━━━━━━━━┩\n",
       "│ input_layer_13 (\u001b[38;5;33mInputLayer\u001b[0m)     │ (\u001b[38;5;45mNone\u001b[0m, \u001b[38;5;34m13\u001b[0m)             │             \u001b[38;5;34m0\u001b[0m │\n",
       "├─────────────────────────────────┼────────────────────────┼───────────────┤\n",
       "│ embedding_layer (\u001b[38;5;33mEmbedding\u001b[0m)     │ (\u001b[38;5;45mNone\u001b[0m, \u001b[38;5;34m13\u001b[0m, \u001b[38;5;34m16\u001b[0m)         │         \u001b[38;5;34m3,440\u001b[0m │\n",
       "├─────────────────────────────────┼────────────────────────┼───────────────┤\n",
       "│ lstm_13 (\u001b[38;5;33mLSTM\u001b[0m)                  │ (\u001b[38;5;45mNone\u001b[0m, \u001b[38;5;34m13\u001b[0m, \u001b[38;5;34m16\u001b[0m)         │         \u001b[38;5;34m2,112\u001b[0m │\n",
       "├─────────────────────────────────┼────────────────────────┼───────────────┤\n",
       "│ dropout_13 (\u001b[38;5;33mDropout\u001b[0m)            │ (\u001b[38;5;45mNone\u001b[0m, \u001b[38;5;34m13\u001b[0m, \u001b[38;5;34m16\u001b[0m)         │             \u001b[38;5;34m0\u001b[0m │\n",
       "├─────────────────────────────────┼────────────────────────┼───────────────┤\n",
       "│ flatten_13 (\u001b[38;5;33mFlatten\u001b[0m)            │ (\u001b[38;5;45mNone\u001b[0m, \u001b[38;5;34m208\u001b[0m)            │             \u001b[38;5;34m0\u001b[0m │\n",
       "├─────────────────────────────────┼────────────────────────┼───────────────┤\n",
       "│ dense_26 (\u001b[38;5;33mDense\u001b[0m)                │ (\u001b[38;5;45mNone\u001b[0m, \u001b[38;5;34m8\u001b[0m)              │         \u001b[38;5;34m1,672\u001b[0m │\n",
       "├─────────────────────────────────┼────────────────────────┼───────────────┤\n",
       "│ dense_27 (\u001b[38;5;33mDense\u001b[0m)                │ (\u001b[38;5;45mNone\u001b[0m, \u001b[38;5;34m1\u001b[0m)              │             \u001b[38;5;34m9\u001b[0m │\n",
       "└─────────────────────────────────┴────────────────────────┴───────────────┘\n"
      ]
     },
     "metadata": {},
     "output_type": "display_data"
    },
    {
     "data": {
      "text/html": [
       "<pre style=\"white-space:pre;overflow-x:auto;line-height:normal;font-family:Menlo,'DejaVu Sans Mono',consolas,'Courier New',monospace\"><span style=\"font-weight: bold\"> Total params: </span><span style=\"color: #00af00; text-decoration-color: #00af00\">7,233</span> (28.25 KB)\n",
       "</pre>\n"
      ],
      "text/plain": [
       "\u001b[1m Total params: \u001b[0m\u001b[38;5;34m7,233\u001b[0m (28.25 KB)\n"
      ]
     },
     "metadata": {},
     "output_type": "display_data"
    },
    {
     "data": {
      "text/html": [
       "<pre style=\"white-space:pre;overflow-x:auto;line-height:normal;font-family:Menlo,'DejaVu Sans Mono',consolas,'Courier New',monospace\"><span style=\"font-weight: bold\"> Trainable params: </span><span style=\"color: #00af00; text-decoration-color: #00af00\">7,233</span> (28.25 KB)\n",
       "</pre>\n"
      ],
      "text/plain": [
       "\u001b[1m Trainable params: \u001b[0m\u001b[38;5;34m7,233\u001b[0m (28.25 KB)\n"
      ]
     },
     "metadata": {},
     "output_type": "display_data"
    },
    {
     "data": {
      "text/html": [
       "<pre style=\"white-space:pre;overflow-x:auto;line-height:normal;font-family:Menlo,'DejaVu Sans Mono',consolas,'Courier New',monospace\"><span style=\"font-weight: bold\"> Non-trainable params: </span><span style=\"color: #00af00; text-decoration-color: #00af00\">0</span> (0.00 B)\n",
       "</pre>\n"
      ],
      "text/plain": [
       "\u001b[1m Non-trainable params: \u001b[0m\u001b[38;5;34m0\u001b[0m (0.00 B)\n"
      ]
     },
     "metadata": {},
     "output_type": "display_data"
    },
    {
     "name": "stdout",
     "output_type": "stream",
     "text": [
      "Epoch 1/6\n",
      "\u001b[1m1416/1416\u001b[0m \u001b[32m━━━━━━━━━━━━━━━━━━━━\u001b[0m\u001b[37m\u001b[0m \u001b[1m5s\u001b[0m 2ms/step - accuracy: 0.6225 - loss: 0.6227\n",
      "Epoch 2/6\n",
      "\u001b[1m1416/1416\u001b[0m \u001b[32m━━━━━━━━━━━━━━━━━━━━\u001b[0m\u001b[37m\u001b[0m \u001b[1m4s\u001b[0m 2ms/step - accuracy: 0.9012 - loss: 0.2311\n",
      "Epoch 3/6\n",
      "\u001b[1m1416/1416\u001b[0m \u001b[32m━━━━━━━━━━━━━━━━━━━━\u001b[0m\u001b[37m\u001b[0m \u001b[1m4s\u001b[0m 3ms/step - accuracy: 0.9330 - loss: 0.1585\n",
      "Epoch 4/6\n",
      "\u001b[1m1416/1416\u001b[0m \u001b[32m━━━━━━━━━━━━━━━━━━━━\u001b[0m\u001b[37m\u001b[0m \u001b[1m5s\u001b[0m 3ms/step - accuracy: 0.9395 - loss: 0.1353\n",
      "Epoch 5/6\n",
      "\u001b[1m1416/1416\u001b[0m \u001b[32m━━━━━━━━━━━━━━━━━━━━\u001b[0m\u001b[37m\u001b[0m \u001b[1m5s\u001b[0m 3ms/step - accuracy: 0.9556 - loss: 0.1130\n",
      "Epoch 6/6\n",
      "\u001b[1m1416/1416\u001b[0m \u001b[32m━━━━━━━━━━━━━━━━━━━━\u001b[0m\u001b[37m\u001b[0m \u001b[1m4s\u001b[0m 3ms/step - accuracy: 0.9589 - loss: 0.1058\n",
      "\u001b[1m89/89\u001b[0m \u001b[32m━━━━━━━━━━━━━━━━━━━━\u001b[0m\u001b[37m\u001b[0m \u001b[1m0s\u001b[0m 1ms/step\n",
      "\u001b[1m16/16\u001b[0m \u001b[32m━━━━━━━━━━━━━━━━━━━━\u001b[0m\u001b[37m\u001b[0m \u001b[1m0s\u001b[0m 1ms/step \n"
     ]
    }
   ],
   "source": [
    "train_df = train_emoticon_X_data_40\n",
    "valid_df = valid_emoticon_X_data_40\n",
    "\n",
    "combined_vocab = set()\n",
    "train_df['tokens'] = train_df['text'].apply(lambda x: x.split())\n",
    "combined_vocab.update(train_df['tokens'].explode().unique())\n",
    "print(combined_vocab)\n",
    "valid_df['tokens'] = valid_df['text'].apply(lambda x: x.split())\n",
    "combined_vocab.update(valid_df['tokens'].explode().unique())\n",
    "print(combined_vocab)\n",
    "vocab_dict_40 = {word: idx for idx, word in enumerate(combined_vocab, start=1)}\n",
    "\n",
    "def tokenize_data(df, vocab_dict_40):\n",
    "    return df['tokens'].apply(lambda x: [vocab_dict_40[token] for token in x])\n",
    "\n",
    "train_df['tokenized_text'] = tokenize_data(train_df, vocab_dict_40)\n",
    "valid_df['tokenized_text'] = tokenize_data(valid_df, vocab_dict_40)\n",
    "max_length = 13\n",
    "train_padded = pad_sequences(train_df['tokenized_text'].tolist(), maxlen=max_length, padding='post')\n",
    "valid_padded = pad_sequences(valid_df['tokenized_text'].tolist(), maxlen=max_length, padding='post')\n",
    "\n",
    "embedding_size = 16\n",
    "vocab_size = len(vocab_dict_40) + 1\n",
    "\n",
    "input_layer = Input(shape=(max_length,), dtype='int32')\n",
    "embedding_layer = Embedding(input_dim=vocab_size, output_dim=embedding_size, input_length=max_length, name='embedding_layer')(input_layer)\n",
    "lstm_layer = LSTM(16, return_sequences=True)(embedding_layer)\n",
    "dropout_layer = Dropout(0.2)(lstm_layer)\n",
    "flatten_layer = Flatten()(dropout_layer)\n",
    "dense_layer = Dense(8, activation='relu')(flatten_layer)\n",
    "output_layer = Dense(1, activation='sigmoid')(dense_layer)\n",
    "\n",
    "model_1_40 = Model(inputs=input_layer, outputs=output_layer, name='small_text_embedding_model')\n",
    "model_1_40.compile(optimizer='adam', loss='binary_crossentropy', metrics=['accuracy'])\n",
    "\n",
    "model_1_40.summary()\n",
    "\n",
    "train_labels = train_emoticon_Y_40\n",
    "model_1_40.fit(train_padded, train_labels, epochs=6, batch_size=2)\n",
    "\n",
    "embedding_model_40 = Model(inputs=model_1_40.input, outputs=model_1_40.get_layer(\"embedding_layer\").output)\n",
    "\n",
    "train_embeddings_40 = embedding_model_40.predict(train_padded)\n",
    "valid_embeddings_40 = embedding_model_40.predict(valid_padded)"
   ]
  },
  {
   "cell_type": "code",
   "execution_count": 115,
   "metadata": {},
   "outputs": [],
   "source": [
    "train_emotioc_X_flattened_40 = train_embeddings_40.reshape(train_embeddings_40.shape[0], -1)\n",
    "valid_emotioc_X_flattened_40 = valid_embeddings_40.reshape(valid_embeddings_40.shape[0], -1)\n",
    "\n",
    "train_emoticon_X_encoded_40=pd.DataFrame(train_emotioc_X_flattened_40)\n",
    "valid_emoticon_X_encoded_40=pd.DataFrame(valid_emotioc_X_flattened_40)"
   ]
  },
  {
   "cell_type": "markdown",
   "metadata": {},
   "source": [
    "#### Feature Standardization"
   ]
  },
  {
   "cell_type": "code",
   "execution_count": 116,
   "metadata": {},
   "outputs": [],
   "source": [
    "scaler_40 = StandardScaler()\n",
    "train_emoticon_X_encoded_40 = scaler_40.fit_transform(train_emoticon_X_encoded_40)\n",
    "valid_emoticon_X_encoded_40 = scaler_40.transform(valid_emoticon_X_encoded_40)"
   ]
  },
  {
   "cell_type": "markdown",
   "metadata": {},
   "source": [
    "### Model Training"
   ]
  },
  {
   "cell_type": "code",
   "execution_count": 117,
   "metadata": {},
   "outputs": [],
   "source": [
    "model_40=SVC(C=0.1, degree=2, gamma='auto', kernel='rbf')\n",
    "\n",
    "model_40.fit(train_emoticon_X_encoded_40, train_emoticon_Y_40)\n",
    "\n",
    "y_pred_train_40 = model_40.predict(train_emoticon_X_encoded_40)\n",
    "y_pred_valid_40 = model_40.predict(valid_emoticon_X_encoded_40)"
   ]
  },
  {
   "cell_type": "markdown",
   "metadata": {},
   "source": [
    "### Accuracy Checking"
   ]
  },
  {
   "cell_type": "code",
   "execution_count": 118,
   "metadata": {},
   "outputs": [
    {
     "name": "stdout",
     "output_type": "stream",
     "text": [
      "Accuracy: 94.0695\n",
      "Confusion Matrix:\n",
      "[[240  12]\n",
      " [ 17 220]]\n"
     ]
    },
    {
     "data": {
      "text/plain": [
       "<sklearn.metrics._plot.confusion_matrix.ConfusionMatrixDisplay at 0x7ad553902c20>"
      ]
     },
     "execution_count": 118,
     "metadata": {},
     "output_type": "execute_result"
    },
    {
     "data": {
      "image/png": "[encoded data removed]",
      "text/plain": [
       "<Figure size 640x480 with 2 Axes>"
      ]
     },
     "metadata": {},
     "output_type": "display_data"
    }
   ],
   "source": [
    "accuracy_40 = accuracy_score(valid_emoticon_Y, y_pred_valid_40)\n",
    "conf_matrix = confusion_matrix(valid_emoticon_Y, y_pred_valid_40)\n",
    "\n",
    "print(f\"Accuracy: {accuracy_40*100:.4f}\")\n",
    "print(\"Confusion Matrix:\")\n",
    "print(conf_matrix)\n",
    "\n",
    "disp = ConfusionMatrixDisplay(confusion_matrix=conf_matrix)\n",
    "disp.plot(cmap='Blues')"
   ]
  },
  {
   "cell_type": "markdown",
   "metadata": {},
   "source": [
    "## For 20% Training Data"
   ]
  },
  {
   "cell_type": "markdown",
   "metadata": {},
   "source": [
    "### Feature Transformation and Encoding"
   ]
  },
  {
   "cell_type": "markdown",
   "metadata": {},
   "source": [
    "#### Transformation"
   ]
  },
  {
   "cell_type": "code",
   "execution_count": 119,
   "metadata": {},
   "outputs": [],
   "source": [
    "train_emoticon_X_data_20 = [list(input_str) for input_str in train_emoticon_X_20]\n",
    "train_emoticon_X_data_20 = pd.DataFrame(train_emoticon_X_data_20)\n",
    "train_emoticon_X_data_20 = train_emoticon_X_data_20.map(ord)\n",
    "train_emoticon_X_data_20 = train_emoticon_X_data_20.astype(str)\n",
    "train_emoticon_X_data_20 = train_emoticon_X_data_20.apply(lambda row: ' '.join(row.values), axis=1)\n",
    "train_emoticon_X_data_20 = pd.DataFrame(train_emoticon_X_data_20, columns=['text'])"
   ]
  },
  {
   "cell_type": "code",
   "execution_count": 120,
   "metadata": {},
   "outputs": [],
   "source": [
    "valid_emoticon_X_data_20 = [list(input_str) for input_str in valid_emoticon_X]\n",
    "valid_emoticon_X_data_20 = pd.DataFrame(valid_emoticon_X_data_20)\n",
    "valid_emoticon_X_data_20 = valid_emoticon_X_data_20.map(ord)\n",
    "valid_emoticon_X_data_20 = valid_emoticon_X_data_20.astype(str)\n",
    "valid_emoticon_X_data_20 = valid_emoticon_X_data_20.apply(lambda row: ' '.join(row.values), axis=1)\n",
    "valid_emoticon_X_data_20 = pd.DataFrame(valid_emoticon_X_data_20, columns=['text'])"
   ]
  },
  {
   "cell_type": "markdown",
   "metadata": {},
   "source": [
    "#### Embedding"
   ]
  },
  {
   "cell_type": "code",
   "execution_count": 121,
   "metadata": {},
   "outputs": [
    {
     "name": "stdout",
     "output_type": "stream",
     "text": [
      "{'128644', '128594', '128545', '128589', '128591', '128556', '128607', '128530', '128735', '128547', '128541', '128622', '128576', '128562', '128521', '128691', '128733', '128669', '128553', '128677', '128558', '128645', '128548', '128631', '128564', '128643', '128680', '128651', '128549', '128617', '128580', '128673', '128544', '128732', '128536', '128560', '128711', '128725', '128554', '128710', '128602', '128600', '128542', '128515', '128585', '128599', '128664', '128590', '128573', '128566', '128637', '128687', '128537', '128706', '128688', '128670', '128615', '128581', '128720', '128657', '128663', '128681', '128728', '128595', '128690', '128723', '128727', '128626', '128528', '128666', '128726', '128724', '128568', '128512', '128518', '128584', '128543', '128587', '128655', '128616', '128596', '128630', '128579', '128647', '128693', '128712', '128658', '128672', '128513', '128642', '128527', '128671', '128701', '128715', '128588', '128614', '128569', '128638', '128721', '128653', '128650', '128722', '128668', '128533', '128714', '128603', '128719', '128524', '128592', '128525', '128686', '128649', '128531', '128601', '128539', '128641', '128703', '128683', '128704', '128625', '128676', '128709', '128619', '128660', '128639', '128729', '128517', '128652', '128514', '128551', '128717', '128593', '128695', '128606', '128613', '128716', '128632', '128538', '128561', '128667', '128552', '128608', '128697', '128516', '128529', '128574', '128570', '128612', '128618', '128623', '128705', '128611', '128540', '128685', '128737', '128640', '128604', '128646', '128698', '128571', '128692', '128662', '128522', '128532', '128635', '128627', '128586', '128682', '128555', '128665', '128583', '128734', '128678', '128523', '128575', '128659', '128700', '128582', '128628', '128713', '128679', '128674', '128656', '128624', '128696', '128557', '128694', '128636', '128620', '128661', '128689', '128519', '128567', '128565', '128610', '128675', '128550', '128546', '128534', '128708', '128718', '128654', '128559', '128535', '128648', '128577', '128572', '128597', '128598', '128702', '128563', '128633', '128731', '128526'}\n",
      "{'128644', '128594', '128545', '128589', '128591', '128556', '128607', '128530', '128735', '128547', '128541', '128622', '128576', '128562', '128521', '128691', '128733', '128669', '128553', '128677', '128558', '128645', '128548', '128631', '128564', '128643', '128680', '128651', '128549', '128617', '128580', '128673', '128544', '128732', '128536', '128560', '128711', '128725', '128554', '128710', '128602', '128600', '128542', '128515', '128585', '128599', '128664', '128590', '128573', '128566', '128637', '128687', '128537', '128706', '128688', '128670', '128615', '128581', '128720', '128657', '128663', '128681', '128728', '128595', '128690', '128723', '128727', '128626', '128528', '128666', '128726', '128724', '128568', '128512', '128518', '128584', '128543', '128587', '128655', '128616', '128596', '128630', '128579', '128647', '128693', '128712', '128658', '128672', '128513', '128642', '128527', '128671', '128701', '128715', '128588', '128614', '128569', '128638', '128721', '128653', '128650', '128722', '128668', '128533', '128714', '128603', '128719', '128524', '128592', '128525', '128686', '128649', '128531', '128601', '128539', '128641', '128703', '128683', '128704', '128625', '128676', '128709', '128619', '128660', '128639', '128729', '128517', '128652', '128514', '128551', '128717', '128593', '128695', '128606', '128613', '128716', '128632', '128538', '128561', '128667', '128552', '128608', '128697', '128516', '128529', '128574', '128570', '128612', '128618', '128623', '128705', '128611', '128540', '128685', '128737', '128640', '128604', '128646', '128698', '128571', '128692', '128662', '128522', '128532', '128635', '128627', '128586', '128682', '128555', '128665', '128583', '128734', '128678', '128523', '128575', '128659', '128700', '128582', '128628', '128713', '128679', '128674', '128656', '128624', '128696', '128557', '128694', '128636', '128620', '128661', '128689', '128519', '128567', '128565', '128610', '128675', '128550', '128546', '128534', '128708', '128718', '128654', '128559', '128535', '128648', '128577', '128572', '128597', '128598', '128702', '128563', '128633', '128731', '128526'}\n"
     ]
    },
    {
     "name": "stderr",
     "output_type": "stream",
     "text": [
      "/home/nishvaan/.local/lib/python3.10/site-packages/keras/src/layers/core/embedding.py:90: UserWarning: Argument `input_length` is deprecated. Just remove it.\n",
      "  warnings.warn(\n"
     ]
    },
    {
     "data": {
      "text/html": [
       "<pre style=\"white-space:pre;overflow-x:auto;line-height:normal;font-family:Menlo,'DejaVu Sans Mono',consolas,'Courier New',monospace\"><span style=\"font-weight: bold\">Model: \"small_text_embedding_model\"</span>\n",
       "</pre>\n"
      ],
      "text/plain": [
       "\u001b[1mModel: \"small_text_embedding_model\"\u001b[0m\n"
      ]
     },
     "metadata": {},
     "output_type": "display_data"
    },
    {
     "data": {
      "text/html": [
       "<pre style=\"white-space:pre;overflow-x:auto;line-height:normal;font-family:Menlo,'DejaVu Sans Mono',consolas,'Courier New',monospace\">┏━━━━━━━━━━━━━━━━━━━━━━━━━━━━━━━━━┳━━━━━━━━━━━━━━━━━━━━━━━━┳━━━━━━━━━━━━━━━┓\n",
       "┃<span style=\"font-weight: bold\"> Layer (type)                    </span>┃<span style=\"font-weight: bold\"> Output Shape           </span>┃<span style=\"font-weight: bold\">       Param # </span>┃\n",
       "┡━━━━━━━━━━━━━━━━━━━━━━━━━━━━━━━━━╇━━━━━━━━━━━━━━━━━━━━━━━━╇━━━━━━━━━━━━━━━┩\n",
       "│ input_layer_14 (<span style=\"color: #0087ff; text-decoration-color: #0087ff\">InputLayer</span>)     │ (<span style=\"color: #00d7ff; text-decoration-color: #00d7ff\">None</span>, <span style=\"color: #00af00; text-decoration-color: #00af00\">13</span>)             │             <span style=\"color: #00af00; text-decoration-color: #00af00\">0</span> │\n",
       "├─────────────────────────────────┼────────────────────────┼───────────────┤\n",
       "│ embedding_layer (<span style=\"color: #0087ff; text-decoration-color: #0087ff\">Embedding</span>)     │ (<span style=\"color: #00d7ff; text-decoration-color: #00d7ff\">None</span>, <span style=\"color: #00af00; text-decoration-color: #00af00\">13</span>, <span style=\"color: #00af00; text-decoration-color: #00af00\">16</span>)         │         <span style=\"color: #00af00; text-decoration-color: #00af00\">3,440</span> │\n",
       "├─────────────────────────────────┼────────────────────────┼───────────────┤\n",
       "│ lstm_14 (<span style=\"color: #0087ff; text-decoration-color: #0087ff\">LSTM</span>)                  │ (<span style=\"color: #00d7ff; text-decoration-color: #00d7ff\">None</span>, <span style=\"color: #00af00; text-decoration-color: #00af00\">13</span>, <span style=\"color: #00af00; text-decoration-color: #00af00\">16</span>)         │         <span style=\"color: #00af00; text-decoration-color: #00af00\">2,112</span> │\n",
       "├─────────────────────────────────┼────────────────────────┼───────────────┤\n",
       "│ dropout_14 (<span style=\"color: #0087ff; text-decoration-color: #0087ff\">Dropout</span>)            │ (<span style=\"color: #00d7ff; text-decoration-color: #00d7ff\">None</span>, <span style=\"color: #00af00; text-decoration-color: #00af00\">13</span>, <span style=\"color: #00af00; text-decoration-color: #00af00\">16</span>)         │             <span style=\"color: #00af00; text-decoration-color: #00af00\">0</span> │\n",
       "├─────────────────────────────────┼────────────────────────┼───────────────┤\n",
       "│ flatten_14 (<span style=\"color: #0087ff; text-decoration-color: #0087ff\">Flatten</span>)            │ (<span style=\"color: #00d7ff; text-decoration-color: #00d7ff\">None</span>, <span style=\"color: #00af00; text-decoration-color: #00af00\">208</span>)            │             <span style=\"color: #00af00; text-decoration-color: #00af00\">0</span> │\n",
       "├─────────────────────────────────┼────────────────────────┼───────────────┤\n",
       "│ dense_28 (<span style=\"color: #0087ff; text-decoration-color: #0087ff\">Dense</span>)                │ (<span style=\"color: #00d7ff; text-decoration-color: #00d7ff\">None</span>, <span style=\"color: #00af00; text-decoration-color: #00af00\">8</span>)              │         <span style=\"color: #00af00; text-decoration-color: #00af00\">1,672</span> │\n",
       "├─────────────────────────────────┼────────────────────────┼───────────────┤\n",
       "│ dense_29 (<span style=\"color: #0087ff; text-decoration-color: #0087ff\">Dense</span>)                │ (<span style=\"color: #00d7ff; text-decoration-color: #00d7ff\">None</span>, <span style=\"color: #00af00; text-decoration-color: #00af00\">1</span>)              │             <span style=\"color: #00af00; text-decoration-color: #00af00\">9</span> │\n",
       "└─────────────────────────────────┴────────────────────────┴───────────────┘\n",
       "</pre>\n"
      ],
      "text/plain": [
       "┏━━━━━━━━━━━━━━━━━━━━━━━━━━━━━━━━━┳━━━━━━━━━━━━━━━━━━━━━━━━┳━━━━━━━━━━━━━━━┓\n",
       "┃\u001b[1m \u001b[0m\u001b[1mLayer (type)                   \u001b[0m\u001b[1m \u001b[0m┃\u001b[1m \u001b[0m\u001b[1mOutput Shape          \u001b[0m\u001b[1m \u001b[0m┃\u001b[1m \u001b[0m\u001b[1m      Param #\u001b[0m\u001b[1m \u001b[0m┃\n",
       "┡━━━━━━━━━━━━━━━━━━━━━━━━━━━━━━━━━╇━━━━━━━━━━━━━━━━━━━━━━━━╇━━━━━━━━━━━━━━━┩\n",
       "│ input_layer_14 (\u001b[38;5;33mInputLayer\u001b[0m)     │ (\u001b[38;5;45mNone\u001b[0m, \u001b[38;5;34m13\u001b[0m)             │             \u001b[38;5;34m0\u001b[0m │\n",
       "├─────────────────────────────────┼────────────────────────┼───────────────┤\n",
       "│ embedding_layer (\u001b[38;5;33mEmbedding\u001b[0m)     │ (\u001b[38;5;45mNone\u001b[0m, \u001b[38;5;34m13\u001b[0m, \u001b[38;5;34m16\u001b[0m)         │         \u001b[38;5;34m3,440\u001b[0m │\n",
       "├─────────────────────────────────┼────────────────────────┼───────────────┤\n",
       "│ lstm_14 (\u001b[38;5;33mLSTM\u001b[0m)                  │ (\u001b[38;5;45mNone\u001b[0m, \u001b[38;5;34m13\u001b[0m, \u001b[38;5;34m16\u001b[0m)         │         \u001b[38;5;34m2,112\u001b[0m │\n",
       "├─────────────────────────────────┼────────────────────────┼───────────────┤\n",
       "│ dropout_14 (\u001b[38;5;33mDropout\u001b[0m)            │ (\u001b[38;5;45mNone\u001b[0m, \u001b[38;5;34m13\u001b[0m, \u001b[38;5;34m16\u001b[0m)         │             \u001b[38;5;34m0\u001b[0m │\n",
       "├─────────────────────────────────┼────────────────────────┼───────────────┤\n",
       "│ flatten_14 (\u001b[38;5;33mFlatten\u001b[0m)            │ (\u001b[38;5;45mNone\u001b[0m, \u001b[38;5;34m208\u001b[0m)            │             \u001b[38;5;34m0\u001b[0m │\n",
       "├─────────────────────────────────┼────────────────────────┼───────────────┤\n",
       "│ dense_28 (\u001b[38;5;33mDense\u001b[0m)                │ (\u001b[38;5;45mNone\u001b[0m, \u001b[38;5;34m8\u001b[0m)              │         \u001b[38;5;34m1,672\u001b[0m │\n",
       "├─────────────────────────────────┼────────────────────────┼───────────────┤\n",
       "│ dense_29 (\u001b[38;5;33mDense\u001b[0m)                │ (\u001b[38;5;45mNone\u001b[0m, \u001b[38;5;34m1\u001b[0m)              │             \u001b[38;5;34m9\u001b[0m │\n",
       "└─────────────────────────────────┴────────────────────────┴───────────────┘\n"
      ]
     },
     "metadata": {},
     "output_type": "display_data"
    },
    {
     "data": {
      "text/html": [
       "<pre style=\"white-space:pre;overflow-x:auto;line-height:normal;font-family:Menlo,'DejaVu Sans Mono',consolas,'Courier New',monospace\"><span style=\"font-weight: bold\"> Total params: </span><span style=\"color: #00af00; text-decoration-color: #00af00\">7,233</span> (28.25 KB)\n",
       "</pre>\n"
      ],
      "text/plain": [
       "\u001b[1m Total params: \u001b[0m\u001b[38;5;34m7,233\u001b[0m (28.25 KB)\n"
      ]
     },
     "metadata": {},
     "output_type": "display_data"
    },
    {
     "data": {
      "text/html": [
       "<pre style=\"white-space:pre;overflow-x:auto;line-height:normal;font-family:Menlo,'DejaVu Sans Mono',consolas,'Courier New',monospace\"><span style=\"font-weight: bold\"> Trainable params: </span><span style=\"color: #00af00; text-decoration-color: #00af00\">7,233</span> (28.25 KB)\n",
       "</pre>\n"
      ],
      "text/plain": [
       "\u001b[1m Trainable params: \u001b[0m\u001b[38;5;34m7,233\u001b[0m (28.25 KB)\n"
      ]
     },
     "metadata": {},
     "output_type": "display_data"
    },
    {
     "data": {
      "text/html": [
       "<pre style=\"white-space:pre;overflow-x:auto;line-height:normal;font-family:Menlo,'DejaVu Sans Mono',consolas,'Courier New',monospace\"><span style=\"font-weight: bold\"> Non-trainable params: </span><span style=\"color: #00af00; text-decoration-color: #00af00\">0</span> (0.00 B)\n",
       "</pre>\n"
      ],
      "text/plain": [
       "\u001b[1m Non-trainable params: \u001b[0m\u001b[38;5;34m0\u001b[0m (0.00 B)\n"
      ]
     },
     "metadata": {},
     "output_type": "display_data"
    },
    {
     "name": "stdout",
     "output_type": "stream",
     "text": [
      "Epoch 1/6\n",
      "\u001b[1m708/708\u001b[0m \u001b[32m━━━━━━━━━━━━━━━━━━━━\u001b[0m\u001b[37m\u001b[0m \u001b[1m4s\u001b[0m 2ms/step - accuracy: 0.5062 - loss: 0.6924\n",
      "Epoch 2/6\n",
      "\u001b[1m708/708\u001b[0m \u001b[32m━━━━━━━━━━━━━━━━━━━━\u001b[0m\u001b[37m\u001b[0m \u001b[1m2s\u001b[0m 3ms/step - accuracy: 0.8409 - loss: 0.3937\n",
      "Epoch 3/6\n",
      "\u001b[1m708/708\u001b[0m \u001b[32m━━━━━━━━━━━━━━━━━━━━\u001b[0m\u001b[37m\u001b[0m \u001b[1m2s\u001b[0m 2ms/step - accuracy: 0.9190 - loss: 0.2103\n",
      "Epoch 4/6\n",
      "\u001b[1m708/708\u001b[0m \u001b[32m━━━━━━━━━━━━━━━━━━━━\u001b[0m\u001b[37m\u001b[0m \u001b[1m2s\u001b[0m 2ms/step - accuracy: 0.9446 - loss: 0.1372\n",
      "Epoch 5/6\n",
      "\u001b[1m708/708\u001b[0m \u001b[32m━━━━━━━━━━━━━━━━━━━━\u001b[0m\u001b[37m\u001b[0m \u001b[1m2s\u001b[0m 2ms/step - accuracy: 0.9475 - loss: 0.1219\n",
      "Epoch 6/6\n",
      "\u001b[1m708/708\u001b[0m \u001b[32m━━━━━━━━━━━━━━━━━━━━\u001b[0m\u001b[37m\u001b[0m \u001b[1m2s\u001b[0m 2ms/step - accuracy: 0.9727 - loss: 0.1031\n",
      "\u001b[1m45/45\u001b[0m \u001b[32m━━━━━━━━━━━━━━━━━━━━\u001b[0m\u001b[37m\u001b[0m \u001b[1m0s\u001b[0m 1ms/step \n",
      "\u001b[1m16/16\u001b[0m \u001b[32m━━━━━━━━━━━━━━━━━━━━\u001b[0m\u001b[37m\u001b[0m \u001b[1m0s\u001b[0m 759us/step\n"
     ]
    }
   ],
   "source": [
    "train_df = train_emoticon_X_data_20\n",
    "valid_df = valid_emoticon_X_data_20\n",
    "\n",
    "combined_vocab = set()\n",
    "train_df['tokens'] = train_df['text'].apply(lambda x: x.split())\n",
    "combined_vocab.update(train_df['tokens'].explode().unique())\n",
    "print(combined_vocab)\n",
    "valid_df['tokens'] = valid_df['text'].apply(lambda x: x.split())\n",
    "combined_vocab.update(valid_df['tokens'].explode().unique())\n",
    "print(combined_vocab)\n",
    "vocab_dict_20 = {word: idx for idx, word in enumerate(combined_vocab, start=1)}\n",
    "\n",
    "def tokenize_data(df, vocab_dict_20):\n",
    "    return df['tokens'].apply(lambda x: [vocab_dict_20[token] for token in x])\n",
    "\n",
    "train_df['tokenized_text'] = tokenize_data(train_df, vocab_dict_20)\n",
    "valid_df['tokenized_text'] = tokenize_data(valid_df, vocab_dict_20)\n",
    "max_length = 13\n",
    "train_padded = pad_sequences(train_df['tokenized_text'].tolist(), maxlen=max_length, padding='post')\n",
    "valid_padded = pad_sequences(valid_df['tokenized_text'].tolist(), maxlen=max_length, padding='post')\n",
    "\n",
    "embedding_size = 16\n",
    "vocab_size = len(vocab_dict_20) + 1\n",
    "\n",
    "input_layer = Input(shape=(max_length,), dtype='int32')\n",
    "embedding_layer = Embedding(input_dim=vocab_size, output_dim=embedding_size, input_length=max_length, name='embedding_layer')(input_layer)\n",
    "lstm_layer = LSTM(16, return_sequences=True)(embedding_layer)\n",
    "dropout_layer = Dropout(0.2)(lstm_layer)\n",
    "flatten_layer = Flatten()(dropout_layer)\n",
    "dense_layer = Dense(8, activation='relu')(flatten_layer)\n",
    "output_layer = Dense(1, activation='sigmoid')(dense_layer)\n",
    "\n",
    "model_1_20 = Model(inputs=input_layer, outputs=output_layer, name='small_text_embedding_model')\n",
    "model_1_20.compile(optimizer='adam', loss='binary_crossentropy', metrics=['accuracy'])\n",
    "\n",
    "model_1_20.summary()\n",
    "\n",
    "train_labels = train_emoticon_Y_20\n",
    "model_1_20.fit(train_padded, train_labels, epochs=6, batch_size=2)\n",
    "\n",
    "embedding_model_20 = Model(inputs=model_1_20.input, outputs=model_1_20.get_layer(\"embedding_layer\").output)\n",
    "\n",
    "train_embeddings_20 = embedding_model_20.predict(train_padded)\n",
    "valid_embeddings_20 = embedding_model_20.predict(valid_padded)"
   ]
  },
  {
   "cell_type": "code",
   "execution_count": 122,
   "metadata": {},
   "outputs": [],
   "source": [
    "train_emotioc_X_flattened_20 = train_embeddings_20.reshape(train_embeddings_20.shape[0], -1)\n",
    "valid_emotioc_X_flattened_20 = valid_embeddings_20.reshape(valid_embeddings_20.shape[0], -1)\n",
    "\n",
    "train_emoticon_X_encoded_20=pd.DataFrame(train_emotioc_X_flattened_20)\n",
    "valid_emoticon_X_encoded_20=pd.DataFrame(valid_emotioc_X_flattened_20)"
   ]
  },
  {
   "cell_type": "markdown",
   "metadata": {},
   "source": [
    "#### Feature Standardization"
   ]
  },
  {
   "cell_type": "code",
   "execution_count": 123,
   "metadata": {},
   "outputs": [],
   "source": [
    "scaler_20 = StandardScaler()\n",
    "train_emoticon_X_encoded_20 = scaler_20.fit_transform(train_emoticon_X_encoded_20)\n",
    "valid_emoticon_X_encoded_20 = scaler_20.transform(valid_emoticon_X_encoded_20)"
   ]
  },
  {
   "cell_type": "markdown",
   "metadata": {},
   "source": [
    "### Model Training"
   ]
  },
  {
   "cell_type": "code",
   "execution_count": 124,
   "metadata": {},
   "outputs": [],
   "source": [
    "model_20=SVC(C=0.1, degree=2, gamma='auto', kernel='rbf')\n",
    "\n",
    "model_20.fit(train_emoticon_X_encoded_20, train_emoticon_Y_20)\n",
    "\n",
    "y_pred_train_20 = model_20.predict(train_emoticon_X_encoded_20)\n",
    "y_pred_valid_20 = model_20.predict(valid_emoticon_X_encoded_20)"
   ]
  },
  {
   "cell_type": "markdown",
   "metadata": {},
   "source": [
    "### Accuracy Checking"
   ]
  },
  {
   "cell_type": "code",
   "execution_count": 125,
   "metadata": {},
   "outputs": [
    {
     "name": "stdout",
     "output_type": "stream",
     "text": [
      "Accuracy: 88.9571\n",
      "Confusion Matrix:\n",
      "[[231  21]\n",
      " [ 33 204]]\n"
     ]
    },
    {
     "data": {
      "text/plain": [
       "<sklearn.metrics._plot.confusion_matrix.ConfusionMatrixDisplay at 0x7ad56ff2d030>"
      ]
     },
     "execution_count": 125,
     "metadata": {},
     "output_type": "execute_result"
    },
    {
     "data": {
      "image/png": "[encoded data removed]",
      "text/plain": [
       "<Figure size 640x480 with 2 Axes>"
      ]
     },
     "metadata": {},
     "output_type": "display_data"
    }
   ],
   "source": [
    "accuracy_20 = accuracy_score(valid_emoticon_Y, y_pred_valid_20)\n",
    "conf_matrix = confusion_matrix(valid_emoticon_Y, y_pred_valid_20)\n",
    "\n",
    "print(f\"Accuracy: {accuracy_20*100:.4f}\")\n",
    "print(\"Confusion Matrix:\")\n",
    "print(conf_matrix)\n",
    "\n",
    "disp = ConfusionMatrixDisplay(confusion_matrix=conf_matrix)\n",
    "disp.plot(cmap='Blues')"
   ]
  },
  {
   "cell_type": "markdown",
   "metadata": {},
   "source": [
    "## Accuracy Variation plot for different % of data"
   ]
  },
  {
   "cell_type": "code",
   "execution_count": 126,
   "metadata": {},
   "outputs": [
    {
     "data": {
      "image/png": "[encoded data removed]",
      "text/plain": [
       "<Figure size 640x480 with 1 Axes>"
      ]
     },
     "metadata": {},
     "output_type": "display_data"
    }
   ],
   "source": [
    "accuracy_scores = [accuracy_20*100, accuracy_40*100, accuracy_60*100, accuracy_80*100, accuracy_100*100]\n",
    "percentage_of_data = [20, 40, 60, 80, 100]\n",
    "\n",
    "plt.plot(percentage_of_data, accuracy_scores, color='red', marker='o')\n",
    "\n",
    "plt.title('Emoticon Dataset accuracies across different percentage of Training Data')\n",
    "plt.xlabel('Percentage of Training Data')\n",
    "plt.ylabel('Accuracy Scores')\n",
    "\n",
    "# plt.ylim([91, 98])\n",
    "\n",
    "plt.grid(True)\n",
    "plt.show()"
   ]
  },
  {
   "cell_type": "markdown",
   "metadata": {},
   "source": [
    "## Prediction For Test dataset"
   ]
  },
  {
   "cell_type": "code",
   "execution_count": 127,
   "metadata": {},
   "outputs": [],
   "source": [
    "test_emoticon_df=pd.read_csv(\"datasets/test/test_emoticon.csv\")\n",
    "test_emoticon_X = test_emoticon_df['input_emoticon']\n",
    "\n",
    "test_emoticon_X_data = [list(input_str) for input_str in test_emoticon_X]\n",
    "test_emoticon_X_data = pd.DataFrame(test_emoticon_X_data)\n",
    "test_emoticon_X_data = test_emoticon_X_data.map(ord)\n",
    "test_emoticon_X_data = test_emoticon_X_data.astype(str)\n",
    "test_emoticon_X_data = test_emoticon_X_data.apply(lambda row: ' '.join(row.values), axis=1)\n",
    "test_emoticon_X_data = pd.DataFrame(test_emoticon_X_data, columns=['text'])"
   ]
  },
  {
   "cell_type": "code",
   "execution_count": 128,
   "metadata": {},
   "outputs": [
    {
     "name": "stdout",
     "output_type": "stream",
     "text": [
      "\u001b[1m70/70\u001b[0m \u001b[32m━━━━━━━━━━━━━━━━━━━━\u001b[0m\u001b[37m\u001b[0m \u001b[1m0s\u001b[0m 721us/step\n",
      "Test Embeddings Shape: (2232, 13, 16)\n"
     ]
    }
   ],
   "source": [
    "test_df = test_emoticon_X_data\n",
    "test_df['tokens'] = test_df['text'].apply(lambda x: x.split())\n",
    "def tokenize_test_data(df, vocab_dict_100):\n",
    "    return df['tokens'].apply(lambda x: [vocab_dict_100[token] if token in vocab_dict_100 else 0 for token in x])\n",
    "test_df['tokenized_text'] = tokenize_test_data(test_df, vocab_dict_100)\n",
    "test_padded = pad_sequences(test_df['tokenized_text'].tolist(), maxlen=max_length, padding='post')\n",
    "test_embeddings = embedding_model_100.predict(test_padded)\n",
    "print(\"Test Embeddings Shape:\", test_embeddings.shape)\n",
    "test_emoticon_X_flattened = test_embeddings.reshape(test_embeddings.shape[0], -1)\n",
    "test_emoticon_X_encoded=pd.DataFrame(test_emoticon_X_flattened)\n",
    "test_emoticon_X_encoded = scaler_100.transform(test_emoticon_X_encoded)\n",
    "y_pred_test = model_100.predict(test_emoticon_X_encoded)\n",
    "np.savetxt(\"pred_emoticon.txt\", y_pred_test, fmt=\"%d\", delimiter=\"\\n\")"
   ]
  }
 ],
 "metadata": {
  "kernelspec": {
   "display_name": "Python 3",
   "language": "python",
   "name": "python3"
  },
  "language_info": {
   "codemirror_mode": {
    "name": "ipython",
    "version": 3
   },
   "file_extension": ".py",
   "mimetype": "text/x-python",
   "name": "python",
   "nbconvert_exporter": "python",
   "pygments_lexer": "ipython3",
   "version": "3.10.12"
  }
 },
 "nbformat": 4,
 "nbformat_minor": 2
}
