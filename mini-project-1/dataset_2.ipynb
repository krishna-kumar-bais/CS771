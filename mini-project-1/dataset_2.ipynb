{
 "cells": [
  {
   "cell_type": "markdown",
   "metadata": {},
   "source": [
    "# Deep Feature Dataset"
   ]
  },
  {
   "cell_type": "markdown",
   "metadata": {},
   "source": [
    "## Importing Deep Feature Dataset"
   ]
  },
  {
   "cell_type": "code",
   "execution_count": 128,
   "metadata": {
    "id": "_PjeFi7ReJDv"
   },
   "outputs": [],
   "source": [
    "import numpy as np\n",
    "import pandas as pd\n",
    "from sklearn.model_selection import train_test_split\n",
    "from sklearn.metrics import accuracy_score\n",
    "\n",
    "from sklearn.svm import SVC\n",
    "\n",
    "from sklearn.metrics import (accuracy_score,confusion_matrix,ConfusionMatrixDisplay)\n",
    "import matplotlib.pyplot as plt\n",
    "import seaborn as sns\n",
    "\n",
    "from sklearn.decomposition import PCA\n",
    "from sklearn.preprocessing import FunctionTransformer\n"
   ]
  },
  {
   "cell_type": "code",
   "execution_count": 129,
   "metadata": {
    "id": "7JtcpYP7eFxb"
   },
   "outputs": [],
   "source": [
    "# Load the dataset\n",
    "data = np.load('datasets/train/train_feature.npz', allow_pickle=True)\n",
    "train_deep_X = data['features']\n",
    "train_deep_Y = data['label']\n",
    "\n",
    "# Load validation set\n",
    "valid_data = np.load('datasets/valid/valid_feature.npz', allow_pickle=True)\n",
    "valid_deep_X = valid_data['features']\n",
    "valid_deep_Y = valid_data['label']"
   ]
  },
  {
   "cell_type": "markdown",
   "metadata": {},
   "source": [
    "## Taking % of training data set"
   ]
  },
  {
   "cell_type": "code",
   "execution_count": 130,
   "metadata": {},
   "outputs": [],
   "source": [
    "train_deep_X_80, train_deep_X_20, train_deep_Y_80, train_deep_Y_20 = train_test_split(train_deep_X, train_deep_Y, test_size=0.2, stratify=train_deep_Y, random_state=42)\n",
    "train_deep_X_60, train_deep_X_40, train_deep_Y_60, train_deep_Y_40 = train_test_split(train_deep_X, train_deep_Y, test_size=0.4, stratify=train_deep_Y, random_state=42)\n",
    "train_deep_X_100 = train_deep_X\n",
    "train_deep_Y_100 = train_deep_Y"
   ]
  },
  {
   "cell_type": "markdown",
   "metadata": {},
   "source": [
    "## For 100% Training Data"
   ]
  },
  {
   "cell_type": "markdown",
   "metadata": {
    "id": "gdCWiQueiRsT"
   },
   "source": [
    "### Feature Transformation"
   ]
  },
  {
   "cell_type": "code",
   "execution_count": 131,
   "metadata": {
    "id": "bvE2uXqhiiPi"
   },
   "outputs": [
    {
     "name": "stdout",
     "output_type": "stream",
     "text": [
      "(7080, 9984)\n"
     ]
    }
   ],
   "source": [
    "train_X_deep_flattened_100 = train_deep_X_100.reshape(train_deep_X_100.shape[0], -1)\n",
    "valid_X_deep_flattened_100 = valid_deep_X.reshape(valid_deep_X.shape[0], -1)\n",
    "\n",
    "print(train_X_deep_flattened_100.shape)\n"
   ]
  },
  {
   "cell_type": "code",
   "execution_count": 132,
   "metadata": {},
   "outputs": [],
   "source": [
    "trf_100= FunctionTransformer(func=np.log1p)\n",
    "\n",
    "train_X_deep_flattened_100 = trf_100.fit_transform(train_X_deep_flattened_100)\n",
    "valid_X_deep_flattened_100 = trf_100.transform(valid_X_deep_flattened_100)"
   ]
  },
  {
   "cell_type": "markdown",
   "metadata": {},
   "source": [
    "### Feature Reduction"
   ]
  },
  {
   "cell_type": "code",
   "execution_count": 133,
   "metadata": {},
   "outputs": [
    {
     "name": "stdout",
     "output_type": "stream",
     "text": [
      "(7080, 100)\n"
     ]
    }
   ],
   "source": [
    "pca_100 = PCA(n_components=100)\n",
    "train_X_deep_flattened_100 = pca_100.fit_transform(train_X_deep_flattened_100)\n",
    "valid_X_deep_flattened_100 = pca_100.transform(valid_X_deep_flattened_100)\n",
    "print(train_X_deep_flattened_100.shape)"
   ]
  },
  {
   "cell_type": "markdown",
   "metadata": {},
   "source": [
    "### Model training"
   ]
  },
  {
   "cell_type": "code",
   "execution_count": 134,
   "metadata": {},
   "outputs": [],
   "source": [
    "model_100=SVC(C=100, degree=2, gamma='auto', kernel='rbf')\n",
    "\n",
    "model_100.fit(train_X_deep_flattened_100, train_deep_Y_100)\n",
    "\n",
    "y_pred_train_100 = model_100.predict(train_X_deep_flattened_100)\n",
    "\n",
    "y_pred_valid_100 = model_100.predict(valid_X_deep_flattened_100)"
   ]
  },
  {
   "cell_type": "markdown",
   "metadata": {},
   "source": [
    "### Accuracy"
   ]
  },
  {
   "cell_type": "code",
   "execution_count": 135,
   "metadata": {},
   "outputs": [
    {
     "name": "stdout",
     "output_type": "stream",
     "text": [
      "Validation Accuracy: 99.1820\n",
      "Validation Confusion Matrix:\n",
      "[[250   2]\n",
      " [  2 235]]\n"
     ]
    },
    {
     "data": {
      "text/plain": [
       "<sklearn.metrics._plot.confusion_matrix.ConfusionMatrixDisplay at 0x7dc64d9b5f00>"
      ]
     },
     "execution_count": 135,
     "metadata": {},
     "output_type": "execute_result"
    },
    {
     "data": {
      "image/png": "[encoded data removed]",
      "text/plain": [
       "<Figure size 640x480 with 2 Axes>"
      ]
     },
     "metadata": {},
     "output_type": "display_data"
    }
   ],
   "source": [
    "accuracy_100 = accuracy_score(valid_deep_Y, y_pred_valid_100)\n",
    "conf_matrix = confusion_matrix(valid_deep_Y, y_pred_valid_100)\n",
    "\n",
    "print(f\"Validation Accuracy: {accuracy_100*100:.4f}\")\n",
    "print(\"Validation Confusion Matrix:\")\n",
    "print(conf_matrix)\n",
    "\n",
    "disp = ConfusionMatrixDisplay(confusion_matrix=conf_matrix)\n",
    "disp.plot(cmap='Blues')"
   ]
  },
  {
   "cell_type": "markdown",
   "metadata": {},
   "source": [
    "## For 80% Training Data"
   ]
  },
  {
   "cell_type": "markdown",
   "metadata": {},
   "source": [
    "### Feature Transformation"
   ]
  },
  {
   "cell_type": "code",
   "execution_count": 136,
   "metadata": {},
   "outputs": [
    {
     "name": "stdout",
     "output_type": "stream",
     "text": [
      "(5664, 9984)\n"
     ]
    }
   ],
   "source": [
    "train_X_deep_flattened_80 = train_deep_X_80.reshape(train_deep_X_80.shape[0], -1)\n",
    "valid_X_deep_flattened_80 = valid_deep_X.reshape(valid_deep_X.shape[0], -1)\n",
    "\n",
    "print(train_X_deep_flattened_80.shape)"
   ]
  },
  {
   "cell_type": "code",
   "execution_count": 137,
   "metadata": {},
   "outputs": [],
   "source": [
    "trf_80= FunctionTransformer(func=np.log1p)\n",
    "\n",
    "train_X_deep_flattened_80 = trf_80.fit_transform(train_X_deep_flattened_80)\n",
    "valid_X_deep_flattened_80 = trf_80.transform(valid_X_deep_flattened_80)"
   ]
  },
  {
   "cell_type": "markdown",
   "metadata": {},
   "source": [
    "### Feature Reduction"
   ]
  },
  {
   "cell_type": "code",
   "execution_count": 138,
   "metadata": {},
   "outputs": [
    {
     "name": "stdout",
     "output_type": "stream",
     "text": [
      "(5664, 100)\n"
     ]
    }
   ],
   "source": [
    "pca_80 = PCA(n_components=100)\n",
    "train_X_deep_flattened_80 = pca_80.fit_transform(train_X_deep_flattened_80)\n",
    "valid_X_deep_flattened_80 = pca_80.transform(valid_X_deep_flattened_80)\n",
    "print(train_X_deep_flattened_80.shape)"
   ]
  },
  {
   "cell_type": "markdown",
   "metadata": {},
   "source": [
    "### Model Training"
   ]
  },
  {
   "cell_type": "code",
   "execution_count": 139,
   "metadata": {},
   "outputs": [],
   "source": [
    "model_80=SVC(C=100, degree=2, gamma='auto', kernel='rbf')\n",
    "\n",
    "model_80.fit(train_X_deep_flattened_80, train_deep_Y_80)\n",
    "\n",
    "y_pred_train_80 = model_80.predict(train_X_deep_flattened_80)\n",
    "\n",
    "y_pred_valid_80 = model_80.predict(valid_X_deep_flattened_80)"
   ]
  },
  {
   "cell_type": "markdown",
   "metadata": {},
   "source": [
    "### Accuracy"
   ]
  },
  {
   "cell_type": "code",
   "execution_count": 140,
   "metadata": {},
   "outputs": [
    {
     "name": "stdout",
     "output_type": "stream",
     "text": [
      "Validation Accuracy: 98.7730\n",
      "Validation Confusion Matrix:\n",
      "[[248   4]\n",
      " [  2 235]]\n"
     ]
    },
    {
     "data": {
      "text/plain": [
       "<sklearn.metrics._plot.confusion_matrix.ConfusionMatrixDisplay at 0x7dc63e0b0940>"
      ]
     },
     "execution_count": 140,
     "metadata": {},
     "output_type": "execute_result"
    },
    {
     "data": {
      "image/png": "[encoded data removed]",
      "text/plain": [
       "<Figure size 640x480 with 2 Axes>"
      ]
     },
     "metadata": {},
     "output_type": "display_data"
    }
   ],
   "source": [
    "accuracy_80 = accuracy_score(valid_deep_Y, y_pred_valid_80)\n",
    "conf_matrix = confusion_matrix(valid_deep_Y, y_pred_valid_80)\n",
    "\n",
    "print(f\"Validation Accuracy: {accuracy_80*100:.4f}\")\n",
    "print(\"Validation Confusion Matrix:\")\n",
    "print(conf_matrix)\n",
    "\n",
    "disp = ConfusionMatrixDisplay(confusion_matrix=conf_matrix)\n",
    "disp.plot(cmap='Blues')"
   ]
  },
  {
   "cell_type": "markdown",
   "metadata": {},
   "source": [
    "## For 60% of Training Data"
   ]
  },
  {
   "cell_type": "markdown",
   "metadata": {},
   "source": [
    "### Feature Transformation"
   ]
  },
  {
   "cell_type": "code",
   "execution_count": 141,
   "metadata": {},
   "outputs": [
    {
     "name": "stdout",
     "output_type": "stream",
     "text": [
      "(4248, 9984)\n"
     ]
    }
   ],
   "source": [
    "train_X_deep_flattened_60 = train_deep_X_60.reshape(train_deep_X_60.shape[0], -1)\n",
    "valid_X_deep_flattened_60 = valid_deep_X.reshape(valid_deep_X.shape[0], -1)\n",
    "\n",
    "print(train_X_deep_flattened_60.shape)"
   ]
  },
  {
   "cell_type": "code",
   "execution_count": 142,
   "metadata": {},
   "outputs": [],
   "source": [
    "trf_60= FunctionTransformer(func=np.log1p)\n",
    "\n",
    "train_X_deep_flattened_60 = trf_60.fit_transform(train_X_deep_flattened_60)\n",
    "valid_X_deep_flattened_60 = trf_60.transform(valid_X_deep_flattened_60)"
   ]
  },
  {
   "cell_type": "markdown",
   "metadata": {},
   "source": [
    "### Feature Reduction"
   ]
  },
  {
   "cell_type": "code",
   "execution_count": 143,
   "metadata": {},
   "outputs": [
    {
     "name": "stdout",
     "output_type": "stream",
     "text": [
      "(4248, 100)\n"
     ]
    }
   ],
   "source": [
    "pca_60 = PCA(n_components=100)\n",
    "train_X_deep_flattened_60 = pca_60.fit_transform(train_X_deep_flattened_60)\n",
    "valid_X_deep_flattened_60 = pca_60.transform(valid_X_deep_flattened_60)\n",
    "print(train_X_deep_flattened_60.shape)"
   ]
  },
  {
   "cell_type": "markdown",
   "metadata": {},
   "source": [
    "### Model Training"
   ]
  },
  {
   "cell_type": "code",
   "execution_count": 144,
   "metadata": {},
   "outputs": [],
   "source": [
    "model_60=SVC(C=100, degree=2, gamma='auto', kernel='rbf')\n",
    "\n",
    "model_60.fit(train_X_deep_flattened_60, train_deep_Y_60)\n",
    "\n",
    "y_pred_train_60 = model_60.predict(train_X_deep_flattened_60)\n",
    "\n",
    "y_pred_valid_60 = model_60.predict(valid_X_deep_flattened_60)"
   ]
  },
  {
   "cell_type": "markdown",
   "metadata": {},
   "source": [
    "### Accuracy"
   ]
  },
  {
   "cell_type": "code",
   "execution_count": 145,
   "metadata": {},
   "outputs": [
    {
     "name": "stdout",
     "output_type": "stream",
     "text": [
      "Validation Accuracy: 98.9775\n",
      "Validation Confusion Matrix:\n",
      "[[249   3]\n",
      " [  2 235]]\n"
     ]
    },
    {
     "data": {
      "text/plain": [
       "<sklearn.metrics._plot.confusion_matrix.ConfusionMatrixDisplay at 0x7dc63df023b0>"
      ]
     },
     "execution_count": 145,
     "metadata": {},
     "output_type": "execute_result"
    },
    {
     "data": {
      "image/png": "[encoded data removed]",
      "text/plain": [
       "<Figure size 640x480 with 2 Axes>"
      ]
     },
     "metadata": {},
     "output_type": "display_data"
    }
   ],
   "source": [
    "accuracy_60 = accuracy_score(valid_deep_Y, y_pred_valid_60)\n",
    "conf_matrix = confusion_matrix(valid_deep_Y, y_pred_valid_60)\n",
    "\n",
    "print(f\"Validation Accuracy: {accuracy_60*100:.4f}\")\n",
    "print(\"Validation Confusion Matrix:\")\n",
    "print(conf_matrix)\n",
    "\n",
    "disp = ConfusionMatrixDisplay(confusion_matrix=conf_matrix)\n",
    "disp.plot(cmap='Blues')"
   ]
  },
  {
   "cell_type": "markdown",
   "metadata": {},
   "source": [
    "## For 40% Training Data"
   ]
  },
  {
   "cell_type": "markdown",
   "metadata": {},
   "source": [
    "### Feature transformation"
   ]
  },
  {
   "cell_type": "code",
   "execution_count": 146,
   "metadata": {},
   "outputs": [
    {
     "name": "stdout",
     "output_type": "stream",
     "text": [
      "(2832, 9984)\n"
     ]
    }
   ],
   "source": [
    "train_X_deep_flattened_40 = train_deep_X_40.reshape(train_deep_X_40.shape[0], -1)\n",
    "valid_X_deep_flattened_40 = valid_deep_X.reshape(valid_deep_X.shape[0], -1)\n",
    "\n",
    "print(train_X_deep_flattened_40.shape)"
   ]
  },
  {
   "cell_type": "code",
   "execution_count": 147,
   "metadata": {},
   "outputs": [],
   "source": [
    "trf_40= FunctionTransformer(func=np.log1p)\n",
    "\n",
    "train_X_deep_flattened_40 = trf_40.fit_transform(train_X_deep_flattened_40)\n",
    "valid_X_deep_flattened_40 = trf_40.transform(valid_X_deep_flattened_40)"
   ]
  },
  {
   "cell_type": "markdown",
   "metadata": {},
   "source": [
    "### Feature Reduction"
   ]
  },
  {
   "cell_type": "code",
   "execution_count": 148,
   "metadata": {},
   "outputs": [
    {
     "name": "stdout",
     "output_type": "stream",
     "text": [
      "(2832, 100)\n"
     ]
    }
   ],
   "source": [
    "pca_40 = PCA(n_components=100)\n",
    "train_X_deep_flattened_40 = pca_40.fit_transform(train_X_deep_flattened_40)\n",
    "valid_X_deep_flattened_40 = pca_40.transform(valid_X_deep_flattened_40)\n",
    "print(train_X_deep_flattened_40.shape)"
   ]
  },
  {
   "cell_type": "markdown",
   "metadata": {},
   "source": [
    "### Model Training"
   ]
  },
  {
   "cell_type": "code",
   "execution_count": 149,
   "metadata": {},
   "outputs": [],
   "source": [
    "model_40=SVC(C=100, degree=2, gamma='auto', kernel='rbf')\n",
    "\n",
    "model_40.fit(train_X_deep_flattened_40, train_deep_Y_40)\n",
    "\n",
    "y_pred_train_40 = model_40.predict(train_X_deep_flattened_40)\n",
    "\n",
    "y_pred_valid_40 = model_40.predict(valid_X_deep_flattened_40)"
   ]
  },
  {
   "cell_type": "markdown",
   "metadata": {},
   "source": [
    "### Accuracy"
   ]
  },
  {
   "cell_type": "code",
   "execution_count": 150,
   "metadata": {},
   "outputs": [
    {
     "name": "stdout",
     "output_type": "stream",
     "text": [
      "Validation Accuracy: 96.9325\n",
      "Validation Confusion Matrix:\n",
      "[[241  11]\n",
      " [  4 233]]\n"
     ]
    },
    {
     "data": {
      "text/plain": [
       "<sklearn.metrics._plot.confusion_matrix.ConfusionMatrixDisplay at 0x7dc64d8c1840>"
      ]
     },
     "execution_count": 150,
     "metadata": {},
     "output_type": "execute_result"
    },
    {
     "data": {
      "image/png": "[encoded data removed]",
      "text/plain": [
       "<Figure size 640x480 with 2 Axes>"
      ]
     },
     "metadata": {},
     "output_type": "display_data"
    }
   ],
   "source": [
    "accuracy_40 = accuracy_score(valid_deep_Y, y_pred_valid_40)\n",
    "conf_matrix = confusion_matrix(valid_deep_Y, y_pred_valid_40)\n",
    "\n",
    "print(f\"Validation Accuracy: {accuracy_40*100:.4f}\")\n",
    "print(\"Validation Confusion Matrix:\")\n",
    "print(conf_matrix)\n",
    "\n",
    "disp = ConfusionMatrixDisplay(confusion_matrix=conf_matrix)\n",
    "disp.plot(cmap='Blues')"
   ]
  },
  {
   "cell_type": "markdown",
   "metadata": {},
   "source": [
    "## For 20% of Training Data"
   ]
  },
  {
   "cell_type": "markdown",
   "metadata": {},
   "source": [
    "### Feature Transformation"
   ]
  },
  {
   "cell_type": "code",
   "execution_count": 151,
   "metadata": {},
   "outputs": [
    {
     "name": "stdout",
     "output_type": "stream",
     "text": [
      "(1416, 9984)\n"
     ]
    }
   ],
   "source": [
    "train_X_deep_flattened_20 = train_deep_X_20.reshape(train_deep_X_20.shape[0], -1)\n",
    "valid_X_deep_flattened_20 = valid_deep_X.reshape(valid_deep_X.shape[0], -1)\n",
    "\n",
    "print(train_X_deep_flattened_20.shape)"
   ]
  },
  {
   "cell_type": "code",
   "execution_count": 152,
   "metadata": {},
   "outputs": [],
   "source": [
    "trf_20= FunctionTransformer(func=np.log1p)\n",
    "\n",
    "train_X_deep_flattened_20 = trf_20.fit_transform(train_X_deep_flattened_20)\n",
    "valid_X_deep_flattened_20 = trf_20.transform(valid_X_deep_flattened_20)"
   ]
  },
  {
   "cell_type": "markdown",
   "metadata": {},
   "source": [
    "### Feature Reduction"
   ]
  },
  {
   "cell_type": "code",
   "execution_count": 153,
   "metadata": {},
   "outputs": [
    {
     "name": "stdout",
     "output_type": "stream",
     "text": [
      "(1416, 100)\n"
     ]
    }
   ],
   "source": [
    "pca_20 = PCA(n_components=100)\n",
    "train_X_deep_flattened_20 = pca_20.fit_transform(train_X_deep_flattened_20)\n",
    "valid_X_deep_flattened_20 = pca_20.transform(valid_X_deep_flattened_20)\n",
    "print(train_X_deep_flattened_20.shape)"
   ]
  },
  {
   "cell_type": "markdown",
   "metadata": {},
   "source": [
    "### Model Training"
   ]
  },
  {
   "cell_type": "code",
   "execution_count": 154,
   "metadata": {},
   "outputs": [],
   "source": [
    "model_20=SVC(C=100, degree=2, gamma='auto', kernel='rbf')\n",
    "\n",
    "model_20.fit(train_X_deep_flattened_20, train_deep_Y_20)\n",
    "\n",
    "y_pred_train_20 = model_20.predict(train_X_deep_flattened_20)\n",
    "\n",
    "y_pred_valid_20 = model_20.predict(valid_X_deep_flattened_20)"
   ]
  },
  {
   "cell_type": "markdown",
   "metadata": {},
   "source": [
    "### Accuracy"
   ]
  },
  {
   "cell_type": "code",
   "execution_count": 155,
   "metadata": {},
   "outputs": [
    {
     "name": "stdout",
     "output_type": "stream",
     "text": [
      "Validation Accuracy: 97.3415\n",
      "Validation Confusion Matrix:\n",
      "[[243   9]\n",
      " [  4 233]]\n"
     ]
    },
    {
     "data": {
      "text/plain": [
       "<sklearn.metrics._plot.confusion_matrix.ConfusionMatrixDisplay at 0x7dc619d88820>"
      ]
     },
     "execution_count": 155,
     "metadata": {},
     "output_type": "execute_result"
    },
    {
     "data": {
      "image/png": "[encoded data removed]",
      "text/plain": [
       "<Figure size 640x480 with 2 Axes>"
      ]
     },
     "metadata": {},
     "output_type": "display_data"
    }
   ],
   "source": [
    "accuracy_20 = accuracy_score(valid_deep_Y, y_pred_valid_20)\n",
    "conf_matrix = confusion_matrix(valid_deep_Y, y_pred_valid_20)\n",
    "\n",
    "print(f\"Validation Accuracy: {accuracy_20*100:.4f}\")\n",
    "print(\"Validation Confusion Matrix:\")\n",
    "print(conf_matrix)\n",
    "\n",
    "disp = ConfusionMatrixDisplay(confusion_matrix=conf_matrix)\n",
    "disp.plot(cmap='Blues')"
   ]
  },
  {
   "cell_type": "markdown",
   "metadata": {},
   "source": [
    "## Accuracy Variation plot for different % of data"
   ]
  },
  {
   "cell_type": "code",
   "execution_count": 156,
   "metadata": {},
   "outputs": [
    {
     "data": {
      "image/png": "[encoded data removed]",
      "text/plain": [
       "<Figure size 640x480 with 1 Axes>"
      ]
     },
     "metadata": {},
     "output_type": "display_data"
    }
   ],
   "source": [
    "accuracy_scores = [accuracy_20*100, accuracy_40*100, accuracy_60*100, accuracy_80*100, accuracy_100*100]\n",
    "percentage_of_data = [20, 40, 60, 80, 100]\n",
    "\n",
    "plt.plot(percentage_of_data, accuracy_scores, color='red', marker='o')\n",
    "\n",
    "plt.title('Deep Feature Dataset accuracies across different percentage of Training Data')\n",
    "plt.xlabel('Percentage of Training Data')\n",
    "plt.ylabel('Accuracy Scores')\n",
    "\n",
    "plt.ylim([95, 100])\n",
    "\n",
    "plt.grid(True)\n",
    "plt.show()"
   ]
  },
  {
   "cell_type": "markdown",
   "metadata": {},
   "source": [
    "## Test Dataset Prediction"
   ]
  },
  {
   "cell_type": "code",
   "execution_count": 157,
   "metadata": {},
   "outputs": [],
   "source": [
    "test_data = np.load('datasets/test/test_feature.npz', allow_pickle=True)\n",
    "test_deep_X = test_data['features']\n",
    "\n",
    "test_X_deep_flattened = test_deep_X.reshape(test_deep_X.shape[0], -1)\n",
    "test_X_deep_flattened = trf_100.transform(test_X_deep_flattened)\n",
    "test_X_deep_flattened = pca_100.transform(test_X_deep_flattened)\n",
    "\n",
    "y_pred_test = model_100.predict(test_X_deep_flattened)\n",
    "\n",
    "np.savetxt(\"pred_deepfeat.txt\", y_pred_test, fmt=\"%d\", delimiter=\"\\n\")"
   ]
  }
 ],
 "metadata": {
  "colab": {
   "provenance": []
  },
  "kernelspec": {
   "display_name": "Python 3 (ipykernel)",
   "language": "python",
   "name": "python3"
  },
  "language_info": {
   "codemirror_mode": {
    "name": "ipython",
    "version": 3
   },
   "file_extension": ".py",
   "mimetype": "text/x-python",
   "name": "python",
   "nbconvert_exporter": "python",
   "pygments_lexer": "ipython3",
   "version": "3.10.12"
  }
 },
 "nbformat": 4,
 "nbformat_minor": 1
}
